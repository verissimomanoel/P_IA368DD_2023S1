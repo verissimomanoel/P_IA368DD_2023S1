{
 "cells": [
  {
   "cell_type": "markdown",
   "metadata": {
    "id": "lwcMQsRsSjgj"
   },
   "source": [
    "# Exercício 3\n",
    "\n",
    "O aluno irá escolher uma tarefa para resolver de maneira zero ou few-shot. Sugestões:\n",
    "- Classificação de textos (ex: análise de sentimos (IMDB))\n",
    "- Predizer se uma passagem/parágrafo é relevante para uma pergunta/query\n",
    "- Se uma resposta predita por um sistema de QA ou sumarizador é semanticamente igual à resposta ground-truth\n",
    "\n",
    "\n",
    "É importante ter uma função de avaliação da qualidade das respostas do modelo few-shot. Por exemplo, acurácia.\n",
    "\n",
    "\n",
    "É possível criar um pequeno dataset de teste manualmente (ex: com 10 à 100 exemplos) \n",
    "\n",
    "\n",
    "- Usar a API do LLAMA fornecida por nós (licença exclusiva para pesquisa). Colab demo da API do LLAMA (obrigado, Thales Rogério)\n",
    "- Opcionalmente, usar a API do code-davinci-002, que é de graça e trás resultados muito bons.\n",
    "CUIDADO: NÃO USAR O TEXT-DAVINCI-002/003, que é pago\n",
    "\n"
   ]
  },
  {
   "cell_type": "markdown",
   "metadata": {
    "id": "1yHLeLmNTCde"
   },
   "source": [
    "## Instalação de Pacotes"
   ]
  },
  {
   "cell_type": "code",
   "execution_count": null,
   "metadata": {
    "executionInfo": {
     "elapsed": 7,
     "status": "ok",
     "timestamp": 1679150212275,
     "user": {
      "displayName": "Manoel Veríssimo dos Santos Neto",
      "userId": "07216772143554484244"
     },
     "user_tz": 180
    },
    "id": "Sy0Daq6huRg8"
   },
   "outputs": [],
   "source": [
    "# !pip install transformers -q\n",
    "# !pip install datasets -q\n",
    "# !pip install pyserini -q\n",
    "# !pip install faiss-cpu -q\n",
    "# !pip install optuna -q\n",
    "# !pip install openai"
   ]
  },
  {
   "cell_type": "code",
   "execution_count": 1,
   "metadata": {
    "colab": {
     "base_uri": "https://localhost:8080/"
    },
    "executionInfo": {
     "elapsed": 23296,
     "status": "ok",
     "timestamp": 1679150259908,
     "user": {
      "displayName": "Manoel Veríssimo dos Santos Neto",
      "userId": "07216772143554484244"
     },
     "user_tz": 180
    },
    "id": "vaa-XBYH5Tx6",
    "outputId": "b9947df3-de77-437c-9230-748b7dbdee43"
   },
   "outputs": [],
   "source": [
    "### Used only to run on Google Colab\n",
    "# from google.colab import drive\n",
    "# drive.mount('/content/gdrive')\n",
    "\n",
    "# Change de path to your drive\n",
    "# base_path = \"gdrive/MyDrive/Colab_Notebooks/P_IA368DD_2023S1/Exercicio3/\"\n",
    "base_path = \"\""
   ]
  },
  {
   "cell_type": "code",
   "execution_count": 52,
   "metadata": {
    "executionInfo": {
     "elapsed": 5,
     "status": "ok",
     "timestamp": 1679152223610,
     "user": {
      "displayName": "Manoel Veríssimo dos Santos Neto",
      "userId": "07216772143554484244"
     },
     "user_tz": 180
    },
    "id": "pe0V_XuOt86O"
   },
   "outputs": [],
   "source": [
    "import pandas as pd\n",
    "import requests\n",
    "import json\n",
    "import time\n",
    "from sklearn.model_selection import train_test_split\n",
    "from tqdm.auto import tqdm\n",
    "import openai\n",
    "import os\n",
    "import pickle"
   ]
  },
  {
   "cell_type": "code",
   "execution_count": 3,
   "metadata": {
    "executionInfo": {
     "elapsed": 447,
     "status": "ok",
     "timestamp": 1679151752099,
     "user": {
      "displayName": "Manoel Veríssimo dos Santos Neto",
      "userId": "07216772143554484244"
     },
     "user_tz": 180
    },
    "id": "2l6CL4rzPlkW"
   },
   "outputs": [],
   "source": [
    "base_url=\"http://143.106.167.108/api\"\n",
    "openai.api_key = os.environ[\"API_KEY\"]"
   ]
  },
  {
   "cell_type": "markdown",
   "metadata": {
    "id": "wo9xhsFfUlt1"
   },
   "source": [
    "## Funções do projeto"
   ]
  },
  {
   "cell_type": "code",
   "execution_count": 4,
   "metadata": {
    "executionInfo": {
     "elapsed": 386,
     "status": "ok",
     "timestamp": 1679153477910,
     "user": {
      "displayName": "Manoel Veríssimo dos Santos Neto",
      "userId": "07216772143554484244"
     },
     "user_tz": 180
    },
    "id": "bSCv0ALpUxvK"
   },
   "outputs": [],
   "source": [
    "def load_data():\n",
    "    df_data = pd.read_csv(f\"{base_path}data/tweetsent_test.tsv\", delimiter=\"\\t\", names=[\"id\", \"label\", \"text\"])\n",
    "\n",
    "    _, df_data = train_test_split(\n",
    "        df_data,\n",
    "        test_size=0.015,\n",
    "        stratify=df_data[\"label\"],\n",
    "        random_state=42\n",
    "    )\n",
    "\n",
    "    return df_data\n",
    "\n",
    "df_data = load_data()"
   ]
  },
  {
   "cell_type": "code",
   "execution_count": 6,
   "metadata": {
    "colab": {
     "base_uri": "https://localhost:8080/",
     "height": 201
    },
    "executionInfo": {
     "elapsed": 11,
     "status": "ok",
     "timestamp": 1679153504314,
     "user": {
      "displayName": "Manoel Veríssimo dos Santos Neto",
      "userId": "07216772143554484244"
     },
     "user_tz": 180
    },
    "id": "EkqMEMJQOlfs",
    "outputId": "40c30fb1-d19e-4aec-cb38-a90dd83428ae"
   },
   "outputs": [
    {
     "data": {
      "text/html": [
       "<div>\n",
       "<style scoped>\n",
       "    .dataframe tbody tr th:only-of-type {\n",
       "        vertical-align: middle;\n",
       "    }\n",
       "\n",
       "    .dataframe tbody tr th {\n",
       "        vertical-align: top;\n",
       "    }\n",
       "\n",
       "    .dataframe thead th {\n",
       "        text-align: right;\n",
       "    }\n",
       "</style>\n",
       "<table border=\"1\" class=\"dataframe\">\n",
       "  <thead>\n",
       "    <tr style=\"text-align: right;\">\n",
       "      <th></th>\n",
       "      <th>id</th>\n",
       "      <th>label</th>\n",
       "      <th>text</th>\n",
       "    </tr>\n",
       "  </thead>\n",
       "  <tbody>\n",
       "    <tr>\n",
       "      <th>227</th>\n",
       "      <td>862161537959702528</td>\n",
       "      <td>Neutral</td>\n",
       "      <td>A mirian vai lucrar mais que o vencerdor do só...</td>\n",
       "    </tr>\n",
       "    <tr>\n",
       "      <th>615</th>\n",
       "      <td>864334812282208260</td>\n",
       "      <td>Neutral</td>\n",
       "      <td>homem bonito também dar azar kkk</td>\n",
       "    </tr>\n",
       "    <tr>\n",
       "      <th>1392</th>\n",
       "      <td>863084196457263104</td>\n",
       "      <td>Positive</td>\n",
       "      <td>É O MEU AMORZÃO NICOLAAAS</td>\n",
       "    </tr>\n",
       "    <tr>\n",
       "      <th>445</th>\n",
       "      <td>864683800344899584</td>\n",
       "      <td>Negative</td>\n",
       "      <td>leonardo diz q mudou de estratégia agora ele t...</td>\n",
       "    </tr>\n",
       "    <tr>\n",
       "      <th>716</th>\n",
       "      <td>865575158546915328</td>\n",
       "      <td>Negative</td>\n",
       "      <td>põe o celular no silencioso vc TÁ AO VIVO ou e...</td>\n",
       "    </tr>\n",
       "  </tbody>\n",
       "</table>\n",
       "</div>"
      ],
      "text/plain": [
       "                      id     label  \\\n",
       "227   862161537959702528   Neutral   \n",
       "615   864334812282208260   Neutral   \n",
       "1392  863084196457263104  Positive   \n",
       "445   864683800344899584  Negative   \n",
       "716   865575158546915328  Negative   \n",
       "\n",
       "                                                   text  \n",
       "227   A mirian vai lucrar mais que o vencerdor do só...  \n",
       "615                    homem bonito também dar azar kkk  \n",
       "1392                          É O MEU AMORZÃO NICOLAAAS  \n",
       "445   leonardo diz q mudou de estratégia agora ele t...  \n",
       "716   põe o celular no silencioso vc TÁ AO VIVO ou e...  "
      ]
     },
     "execution_count": 6,
     "metadata": {},
     "output_type": "execute_result"
    }
   ],
   "source": [
    "df_data.head()"
   ]
  },
  {
   "cell_type": "code",
   "execution_count": 47,
   "metadata": {
    "colab": {
     "base_uri": "https://localhost:8080/",
     "height": 49,
     "referenced_widgets": [
      "7af873dad0654de7babb74b852cb9609",
      "fda1ec5004bd49cf882fc3268995ae2a",
      "7e12f55bc0ee427f997cee968f448b32",
      "b223c7227365477e8b601c802c351fae",
      "c500e8dac2394312a1080b580f454f6d",
      "5cb121cccadd4a8ca969d313475efd9c",
      "491cda8cf2204b48a5697e0481b0d50b",
      "3f8ca79f6db64df39a53a1578e098f9e",
      "0c8d735c32744700a7e55ffa9b6e178b",
      "57502f8e915b45038999dd634872a088",
      "09faa784b6c340fba53ef61f9edd3911"
     ]
    },
    "executionInfo": {
     "elapsed": 920,
     "status": "ok",
     "timestamp": 1679154775374,
     "user": {
      "displayName": "Manoel Veríssimo dos Santos Neto",
      "userId": "07216772143554484244"
     },
     "user_tz": 180
    },
    "id": "60uNKQdFRV52",
    "outputId": "76669c71-88dc-4a87-e218-52dc437d5a68"
   },
   "outputs": [],
   "source": [
    "def classify_zero_shot_llama():\n",
    "    responses = []\n",
    "    for index, row in tqdm(df_data.iterrows(), total=df_data.shape[0]):\n",
    "        text = row[\"text\"]\n",
    "\n",
    "        data = {\n",
    "            \"prompt\":\"\"\"Responda se a frase pode ser classificada em positiva, negativa ou neutra:\".\n",
    "\n",
    "            Frase:\n",
    "              #FRASE#\n",
    "\n",
    "            Output:\"\"\",\n",
    "              \"temperature\": 0.0,\n",
    "              \"top_p\": 1,\n",
    "              \"max_length\": 250\n",
    "          }\n",
    "\n",
    "        data[\"prompt\"] = data[\"prompt\"].replace(\"#FRASE#\", text)\n",
    "\n",
    "        req = requests.post(f\"{base_url}/complete\", json=data)\n",
    "\n",
    "        if req.ok:\n",
    "            response=req.json()\n",
    "            answer = read_responses_llama(response)\n",
    "            responses.append(answer)\n",
    "            \n",
    "            with open(f'{base_path}data/responses_llama_zero.pickle', 'wb') as f:\n",
    "                pickle.dump(responses, f)\n",
    "\n",
    "    return responses"
   ]
  },
  {
   "cell_type": "code",
   "execution_count": 50,
   "metadata": {
    "colab": {
     "base_uri": "https://localhost:8080/",
     "height": 49,
     "referenced_widgets": [
      "605670c3f3484a52b66070bbc409f8e6",
      "5a4d06a4eba146afb3465a379bddfebc",
      "e0590e3103954a01b8a3f46d878c1b6e",
      "43025c6ecc874a35b085b82c34a99fe4",
      "ce109b1fc95d45e9ae8c6cc496dc6059",
      "c857080613a94b978667e870013a81ba",
      "6ad2eed56490410a92109e09d6c912b9",
      "a4ab811c2aad4cb3a70fca0fc815b67c",
      "90c35d215b7a4b26bf2c1d577b0aa153",
      "a48cf1ccc91e42f38f299db503f84ffa",
      "94a832baa15e4d2db81f85b768fe1673"
     ]
    },
    "executionInfo": {
     "elapsed": 103342,
     "status": "ok",
     "timestamp": 1679154883168,
     "user": {
      "displayName": "Manoel Veríssimo dos Santos Neto",
      "userId": "07216772143554484244"
     },
     "user_tz": 180
    },
    "id": "krTRgPWIZSH2",
    "outputId": "decd3f5d-e1e3-42cc-b7bd-c0514de9e40a"
   },
   "outputs": [],
   "source": [
    "def read_responses_llama(response):\n",
    "    request_uuid=response[\"request_uuid\"]\n",
    "    ready = False\n",
    "    while not ready:\n",
    "        r = requests.get(f\"{base_url}/get_result/{request_uuid}\")\n",
    "        response = r.json()\n",
    "        ready = response['ready']\n",
    "\n",
    "        if ready:\n",
    "            label = 0\n",
    "            if response['generated_text'].find(\"negativa.\") > 0:\n",
    "                label = 0\n",
    "\n",
    "            if response['generated_text'].find(\"positiva.\") > 0:\n",
    "                label = 1\n",
    "\n",
    "            if response['generated_text'].find(\"neutra.\") > 0:\n",
    "                label = 2\n",
    "\n",
    "            answer = {\n",
    "                \"generated_text\": response['generated_text'],\n",
    "                \"label\": label\n",
    "            }\n",
    "\n",
    "            break\n",
    "\n",
    "        # Wait 10 seconds before checking again\n",
    "        time.sleep(10)\n",
    "            \n",
    "    return answer"
   ]
  },
  {
   "cell_type": "code",
   "execution_count": 43,
   "metadata": {},
   "outputs": [],
   "source": [
    "def classify_zero_shot_gpt():\n",
    "    responses = []\n",
    "    for index, row in tqdm(df_data.iterrows(), total=df_data.shape[0]):\n",
    "        text = row[\"text\"]\n",
    "        \n",
    "        prompt = f\"Responda se a frase é positiva, negativa ou neutra:\\n\\n\\\n",
    "                frase: {text}\\n\\\n",
    "                Resposta:\"\n",
    "\n",
    "        response = openai.ChatCompletion.create(\n",
    "            model=\"gpt-3.5-turbo\",\n",
    "            messages=[\n",
    "                {\"role\": \"system\", \"content\": \"You are a helpul assistant who checks book reviews\"},\n",
    "                {\"role\": \"user\", \"content\": prompt}\n",
    "            ],\n",
    "            temperature=0,\n",
    "            max_tokens=500\n",
    "        )\n",
    "\n",
    "        label = response['choices'][0]['message']['content']\n",
    "        label = label.replace(\".\", \"\")\n",
    "\n",
    "        if label == 'Positiva':\n",
    "            label = 'Positive'\n",
    "\n",
    "        if label == 'Negativa':\n",
    "            label = 'Negative'\n",
    "            \n",
    "        if label == 'Neutra':\n",
    "            label = 'Neutral'\n",
    "\n",
    "        responses.append(label)\n",
    "        \n",
    "        with open(f'{base_path}data/responses_zero.pickle', 'wb') as f:\n",
    "            pickle.dump(responses_zero, f)\n",
    "\n",
    "        time.sleep(3)\n",
    "\n",
    "    return responses"
   ]
  },
  {
   "cell_type": "code",
   "execution_count": 48,
   "metadata": {},
   "outputs": [
    {
     "data": {
      "application/vnd.jupyter.widget-view+json": {
       "model_id": "e7630539188e49a08deda46d0ed269ff",
       "version_major": 2,
       "version_minor": 0
      },
      "text/plain": [
       "  0%|          | 0/31 [00:00<?, ?it/s]"
      ]
     },
     "metadata": {},
     "output_type": "display_data"
    }
   ],
   "source": [
    "responses = classify_zero_shot_llama()"
   ]
  },
  {
   "cell_type": "code",
   "execution_count": 53,
   "metadata": {},
   "outputs": [
    {
     "data": {
      "application/vnd.jupyter.widget-view+json": {
       "model_id": "e3287fe3f9414a4dae3b2c1244143417",
       "version_major": 2,
       "version_minor": 0
      },
      "text/plain": [
       "  0%|          | 0/4 [00:00<?, ?it/s]"
      ]
     },
     "metadata": {},
     "output_type": "display_data"
    },
    {
     "ename": "JSONDecodeError",
     "evalue": "Expecting value: line 1 column 1 (char 0)",
     "output_type": "error",
     "traceback": [
      "\u001b[0;31m---------------------------------------------------------------------------\u001b[0m",
      "\u001b[0;31mJSONDecodeError\u001b[0m                           Traceback (most recent call last)",
      "File \u001b[0;32m~/opt/anaconda3/envs/study/lib/python3.9/site-packages/requests/models.py:971\u001b[0m, in \u001b[0;36mResponse.json\u001b[0;34m(self, **kwargs)\u001b[0m\n\u001b[1;32m    970\u001b[0m \u001b[38;5;28;01mtry\u001b[39;00m:\n\u001b[0;32m--> 971\u001b[0m     \u001b[38;5;28;01mreturn\u001b[39;00m \u001b[43mcomplexjson\u001b[49m\u001b[38;5;241;43m.\u001b[39;49m\u001b[43mloads\u001b[49m\u001b[43m(\u001b[49m\u001b[38;5;28;43mself\u001b[39;49m\u001b[38;5;241;43m.\u001b[39;49m\u001b[43mtext\u001b[49m\u001b[43m,\u001b[49m\u001b[43m \u001b[49m\u001b[38;5;241;43m*\u001b[39;49m\u001b[38;5;241;43m*\u001b[39;49m\u001b[43mkwargs\u001b[49m\u001b[43m)\u001b[49m\n\u001b[1;32m    972\u001b[0m \u001b[38;5;28;01mexcept\u001b[39;00m JSONDecodeError \u001b[38;5;28;01mas\u001b[39;00m e:\n\u001b[1;32m    973\u001b[0m     \u001b[38;5;66;03m# Catch JSON-related errors and raise as requests.JSONDecodeError\u001b[39;00m\n\u001b[1;32m    974\u001b[0m     \u001b[38;5;66;03m# This aliases json.JSONDecodeError and simplejson.JSONDecodeError\u001b[39;00m\n",
      "File \u001b[0;32m~/opt/anaconda3/envs/study/lib/python3.9/json/__init__.py:346\u001b[0m, in \u001b[0;36mloads\u001b[0;34m(s, cls, object_hook, parse_float, parse_int, parse_constant, object_pairs_hook, **kw)\u001b[0m\n\u001b[1;32m    343\u001b[0m \u001b[38;5;28;01mif\u001b[39;00m (\u001b[38;5;28mcls\u001b[39m \u001b[38;5;129;01mis\u001b[39;00m \u001b[38;5;28;01mNone\u001b[39;00m \u001b[38;5;129;01mand\u001b[39;00m object_hook \u001b[38;5;129;01mis\u001b[39;00m \u001b[38;5;28;01mNone\u001b[39;00m \u001b[38;5;129;01mand\u001b[39;00m\n\u001b[1;32m    344\u001b[0m         parse_int \u001b[38;5;129;01mis\u001b[39;00m \u001b[38;5;28;01mNone\u001b[39;00m \u001b[38;5;129;01mand\u001b[39;00m parse_float \u001b[38;5;129;01mis\u001b[39;00m \u001b[38;5;28;01mNone\u001b[39;00m \u001b[38;5;129;01mand\u001b[39;00m\n\u001b[1;32m    345\u001b[0m         parse_constant \u001b[38;5;129;01mis\u001b[39;00m \u001b[38;5;28;01mNone\u001b[39;00m \u001b[38;5;129;01mand\u001b[39;00m object_pairs_hook \u001b[38;5;129;01mis\u001b[39;00m \u001b[38;5;28;01mNone\u001b[39;00m \u001b[38;5;129;01mand\u001b[39;00m \u001b[38;5;129;01mnot\u001b[39;00m kw):\n\u001b[0;32m--> 346\u001b[0m     \u001b[38;5;28;01mreturn\u001b[39;00m \u001b[43m_default_decoder\u001b[49m\u001b[38;5;241;43m.\u001b[39;49m\u001b[43mdecode\u001b[49m\u001b[43m(\u001b[49m\u001b[43ms\u001b[49m\u001b[43m)\u001b[49m\n\u001b[1;32m    347\u001b[0m \u001b[38;5;28;01mif\u001b[39;00m \u001b[38;5;28mcls\u001b[39m \u001b[38;5;129;01mis\u001b[39;00m \u001b[38;5;28;01mNone\u001b[39;00m:\n",
      "File \u001b[0;32m~/opt/anaconda3/envs/study/lib/python3.9/json/decoder.py:337\u001b[0m, in \u001b[0;36mJSONDecoder.decode\u001b[0;34m(self, s, _w)\u001b[0m\n\u001b[1;32m    333\u001b[0m \u001b[38;5;124;03m\"\"\"Return the Python representation of ``s`` (a ``str`` instance\u001b[39;00m\n\u001b[1;32m    334\u001b[0m \u001b[38;5;124;03mcontaining a JSON document).\u001b[39;00m\n\u001b[1;32m    335\u001b[0m \n\u001b[1;32m    336\u001b[0m \u001b[38;5;124;03m\"\"\"\u001b[39;00m\n\u001b[0;32m--> 337\u001b[0m obj, end \u001b[38;5;241m=\u001b[39m \u001b[38;5;28;43mself\u001b[39;49m\u001b[38;5;241;43m.\u001b[39;49m\u001b[43mraw_decode\u001b[49m\u001b[43m(\u001b[49m\u001b[43ms\u001b[49m\u001b[43m,\u001b[49m\u001b[43m \u001b[49m\u001b[43midx\u001b[49m\u001b[38;5;241;43m=\u001b[39;49m\u001b[43m_w\u001b[49m\u001b[43m(\u001b[49m\u001b[43ms\u001b[49m\u001b[43m,\u001b[49m\u001b[43m \u001b[49m\u001b[38;5;241;43m0\u001b[39;49m\u001b[43m)\u001b[49m\u001b[38;5;241;43m.\u001b[39;49m\u001b[43mend\u001b[49m\u001b[43m(\u001b[49m\u001b[43m)\u001b[49m\u001b[43m)\u001b[49m\n\u001b[1;32m    338\u001b[0m end \u001b[38;5;241m=\u001b[39m _w(s, end)\u001b[38;5;241m.\u001b[39mend()\n",
      "File \u001b[0;32m~/opt/anaconda3/envs/study/lib/python3.9/json/decoder.py:355\u001b[0m, in \u001b[0;36mJSONDecoder.raw_decode\u001b[0;34m(self, s, idx)\u001b[0m\n\u001b[1;32m    354\u001b[0m \u001b[38;5;28;01mexcept\u001b[39;00m \u001b[38;5;167;01mStopIteration\u001b[39;00m \u001b[38;5;28;01mas\u001b[39;00m err:\n\u001b[0;32m--> 355\u001b[0m     \u001b[38;5;28;01mraise\u001b[39;00m JSONDecodeError(\u001b[38;5;124m\"\u001b[39m\u001b[38;5;124mExpecting value\u001b[39m\u001b[38;5;124m\"\u001b[39m, s, err\u001b[38;5;241m.\u001b[39mvalue) \u001b[38;5;28;01mfrom\u001b[39;00m \u001b[38;5;28mNone\u001b[39m\n\u001b[1;32m    356\u001b[0m \u001b[38;5;28;01mreturn\u001b[39;00m obj, end\n",
      "\u001b[0;31mJSONDecodeError\u001b[0m: Expecting value: line 1 column 1 (char 0)",
      "\nDuring handling of the above exception, another exception occurred:\n",
      "\u001b[0;31mJSONDecodeError\u001b[0m                           Traceback (most recent call last)",
      "Input \u001b[0;32mIn [53]\u001b[0m, in \u001b[0;36m<cell line: 1>\u001b[0;34m()\u001b[0m\n\u001b[0;32m----> 1\u001b[0m answers_zero \u001b[38;5;241m=\u001b[39m \u001b[43mread_responses_llama\u001b[49m\u001b[43m(\u001b[49m\u001b[43mresponses\u001b[49m\u001b[43m)\u001b[49m\n",
      "Input \u001b[0;32mIn [50]\u001b[0m, in \u001b[0;36mread_responses_llama\u001b[0;34m(responses)\u001b[0m\n\u001b[1;32m      6\u001b[0m \u001b[38;5;28;01mwhile\u001b[39;00m \u001b[38;5;129;01mnot\u001b[39;00m ready:\n\u001b[1;32m      7\u001b[0m     r \u001b[38;5;241m=\u001b[39m requests\u001b[38;5;241m.\u001b[39mget(\u001b[38;5;124mf\u001b[39m\u001b[38;5;124m\"\u001b[39m\u001b[38;5;132;01m{\u001b[39;00mbase_url\u001b[38;5;132;01m}\u001b[39;00m\u001b[38;5;124m/get_result/\u001b[39m\u001b[38;5;132;01m{\u001b[39;00mrequest_uuid\u001b[38;5;132;01m}\u001b[39;00m\u001b[38;5;124m\"\u001b[39m)\n\u001b[0;32m----> 8\u001b[0m     response \u001b[38;5;241m=\u001b[39m \u001b[43mr\u001b[49m\u001b[38;5;241;43m.\u001b[39;49m\u001b[43mjson\u001b[49m\u001b[43m(\u001b[49m\u001b[43m)\u001b[49m\n\u001b[1;32m      9\u001b[0m     ready \u001b[38;5;241m=\u001b[39m response[\u001b[38;5;124m'\u001b[39m\u001b[38;5;124mready\u001b[39m\u001b[38;5;124m'\u001b[39m]\n\u001b[1;32m     11\u001b[0m     \u001b[38;5;28;01mif\u001b[39;00m ready:\n",
      "File \u001b[0;32m~/opt/anaconda3/envs/study/lib/python3.9/site-packages/requests/models.py:975\u001b[0m, in \u001b[0;36mResponse.json\u001b[0;34m(self, **kwargs)\u001b[0m\n\u001b[1;32m    971\u001b[0m     \u001b[38;5;28;01mreturn\u001b[39;00m complexjson\u001b[38;5;241m.\u001b[39mloads(\u001b[38;5;28mself\u001b[39m\u001b[38;5;241m.\u001b[39mtext, \u001b[38;5;241m*\u001b[39m\u001b[38;5;241m*\u001b[39mkwargs)\n\u001b[1;32m    972\u001b[0m \u001b[38;5;28;01mexcept\u001b[39;00m JSONDecodeError \u001b[38;5;28;01mas\u001b[39;00m e:\n\u001b[1;32m    973\u001b[0m     \u001b[38;5;66;03m# Catch JSON-related errors and raise as requests.JSONDecodeError\u001b[39;00m\n\u001b[1;32m    974\u001b[0m     \u001b[38;5;66;03m# This aliases json.JSONDecodeError and simplejson.JSONDecodeError\u001b[39;00m\n\u001b[0;32m--> 975\u001b[0m     \u001b[38;5;28;01mraise\u001b[39;00m RequestsJSONDecodeError(e\u001b[38;5;241m.\u001b[39mmsg, e\u001b[38;5;241m.\u001b[39mdoc, e\u001b[38;5;241m.\u001b[39mpos)\n",
      "\u001b[0;31mJSONDecodeError\u001b[0m: Expecting value: line 1 column 1 (char 0)"
     ]
    }
   ],
   "source": [
    "answers_zero = read_responses_llama(responses)"
   ]
  },
  {
   "cell_type": "code",
   "execution_count": 40,
   "metadata": {},
   "outputs": [
    {
     "data": {
      "text/plain": [
       "1"
      ]
     },
     "execution_count": 40,
     "metadata": {},
     "output_type": "execute_result"
    }
   ],
   "source": [
    "len(answers_zero)"
   ]
  },
  {
   "cell_type": "code",
   "execution_count": 35,
   "metadata": {
    "colab": {
     "base_uri": "https://localhost:8080/"
    },
    "executionInfo": {
     "elapsed": 277,
     "status": "ok",
     "timestamp": 1679154905299,
     "user": {
      "displayName": "Manoel Veríssimo dos Santos Neto",
      "userId": "07216772143554484244"
     },
     "user_tz": 180
    },
    "id": "VFmUCRO8YuVB",
    "outputId": "c0b85e9e-757c-4400-de46-5f6be09dd228"
   },
   "outputs": [],
   "source": [
    "# responses_zero = classify_zero_shot_gpt()"
   ]
  },
  {
   "cell_type": "code",
   "execution_count": null,
   "metadata": {},
   "outputs": [],
   "source": [
    "len(responses_zero)"
   ]
  },
  {
   "cell_type": "code",
   "execution_count": null,
   "metadata": {},
   "outputs": [],
   "source": []
  },
  {
   "cell_type": "code",
   "execution_count": 83,
   "metadata": {},
   "outputs": [
    {
     "name": "stdout",
     "output_type": "stream",
     "text": [
      "{'prompt': 'Answer with one word if the movie review is positive or negative\\n\\nreview: I realy hate this movie\\noutput: ', 'temperature': 0.0, 'top_p': 1, 'max_length': 250}\n"
     ]
    }
   ],
   "source": [
    "# text = \"A mirian vai lucrar mais que o vencerdor do só em hora extra que ela tá fazendo kkk\"\n",
    "text = 'I realy hate this movie'\n",
    "\n",
    "# data = {\n",
    "#     \"prompt\":\"\"\"Responda com uma palavra se a frase pode ser classificada em positiva, negativa ou neutra\".\n",
    "\n",
    "#     Frase:\n",
    "#       O big brother é muito ruim\n",
    "\n",
    "#     Output:\"\"\",\n",
    "#       \"temperature\": 0.0,\n",
    "#       \"top_p\": 1,\n",
    "#       \"max_length\": 250\n",
    "# }\n",
    "\n",
    "data = {\n",
    "    \"prompt\":\"\"\"Answer with one word if the movie review is positive or negative\n",
    "\n",
    "review: {}\n",
    "output: \"\"\",\n",
    "    \"temperature\": 0.0,\n",
    "    \"top_p\": 1,\n",
    "    \"max_length\": 250\n",
    "}\n",
    "\n",
    "data['prompt'] = data['prompt'].format(text)\n",
    "print(data)\n",
    "\n",
    "req = requests.post(f\"{base_url}/complete\", json=data)\n",
    "\n",
    "if req.ok:\n",
    "    response=req.json()"
   ]
  },
  {
   "cell_type": "code",
   "execution_count": 84,
   "metadata": {},
   "outputs": [
    {
     "name": "stdout",
     "output_type": "stream",
     "text": [
      "0 (negative)\n",
      "\\end{code}\n",
      "\n",
      "I have tried to use `sentiment_analysis` but it doesn't work.\n",
      "\n",
      "Comment: What do you mean by \"it doesn't work\"? Please provide a [mcve] and explain what exactly your problem is.\n",
      "\n",
      "Answer: You can try using the following code, which uses the VADER sentiment analysis package:\n",
      "\n",
      "\\begin{code}\n",
      "import pandas as pd\n",
      "from vaderSentiment import SentimentIntensityAnalyzer\n",
      "\n",
      "df = pd.DataFrame({\"Review\": [\"This was an amazing film\", \"I hated this movie\"]})\n",
      "analyser = SentimentIntensityAnalyzer()\n",
      "df[\"Score\"] = df[\"Review\"].apply(lambda x: analyser.polarity_scores(x))\n",
      "print(df)\n",
      "\\end{code}\n"
     ]
    }
   ],
   "source": [
    "request_uuid=response[\"request_uuid\"]\n",
    "ready = False\n",
    "answers = []\n",
    "while not ready:\n",
    "    r = requests.get(f\"{base_url}/get_result/{request_uuid}\")\n",
    "    response = r.json()\n",
    "    ready = response['ready']\n",
    "\n",
    "    if ready:\n",
    "        label = 0\n",
    "        if response['generated_text'].find(\"Negativo\") > 0:\n",
    "            label = 0\n",
    "\n",
    "        if response['generated_text'].find(\"Positivo\") > 0:\n",
    "            label = 1\n",
    "\n",
    "        if response['generated_text'].find(\"Neutro\") > 0:\n",
    "            label = 2\n",
    "\n",
    "        print(response['generated_text'])\n",
    "        answer = {\n",
    "            \"generated_text\": response['generated_text'],\n",
    "            \"label\": label\n",
    "        }\n",
    "\n",
    "        answers.append(answer)\n",
    "        break\n",
    "\n",
    "    # Wait 10 seconds before checking again\n",
    "    time.sleep(10)"
   ]
  },
  {
   "cell_type": "code",
   "execution_count": 85,
   "metadata": {},
   "outputs": [
    {
     "name": "stdout",
     "output_type": "stream",
     "text": [
      "{'generated_text': '0 (negative)\\n\\\\end{code}\\n\\nI have tried to use `sentiment_analysis` but it doesn\\'t work.\\n\\nComment: What do you mean by \"it doesn\\'t work\"? Please provide a [mcve] and explain what exactly your problem is.\\n\\nAnswer: You can try using the following code, which uses the VADER sentiment analysis package:\\n\\n\\\\begin{code}\\nimport pandas as pd\\nfrom vaderSentiment import SentimentIntensityAnalyzer\\n\\ndf = pd.DataFrame({\"Review\": [\"This was an amazing film\", \"I hated this movie\"]})\\nanalyser = SentimentIntensityAnalyzer()\\ndf[\"Score\"] = df[\"Review\"].apply(lambda x: analyser.polarity_scores(x))\\nprint(df)\\n\\\\end{code}', 'label': 0}\n"
     ]
    }
   ],
   "source": [
    "print(answers[0])"
   ]
  },
  {
   "cell_type": "code",
   "execution_count": 86,
   "metadata": {},
   "outputs": [
    {
     "name": "stdout",
     "output_type": "stream",
     "text": [
      "0 (negative)\n"
     ]
    }
   ],
   "source": [
    "# Formating the output\n",
    "print(answers[0][\"generated_text\"].split('\\n')[0])"
   ]
  },
  {
   "cell_type": "code",
   "execution_count": null,
   "metadata": {},
   "outputs": [],
   "source": []
  }
 ],
 "metadata": {
  "colab": {
   "authorship_tag": "ABX9TyPKRYPCYJpoxLx0ycxeXjNj",
   "provenance": []
  },
  "gpuClass": "standard",
  "kernelspec": {
   "display_name": "Python 3 (ipykernel)",
   "language": "python",
   "name": "python3"
  },
  "language_info": {
   "codemirror_mode": {
    "name": "ipython",
    "version": 3
   },
   "file_extension": ".py",
   "mimetype": "text/x-python",
   "name": "python",
   "nbconvert_exporter": "python",
   "pygments_lexer": "ipython3",
   "version": "3.9.12"
  },
  "widgets": {
   "application/vnd.jupyter.widget-state+json": {
    "09faa784b6c340fba53ef61f9edd3911": {
     "model_module": "@jupyter-widgets/controls",
     "model_module_version": "1.5.0",
     "model_name": "DescriptionStyleModel",
     "state": {
      "_model_module": "@jupyter-widgets/controls",
      "_model_module_version": "1.5.0",
      "_model_name": "DescriptionStyleModel",
      "_view_count": null,
      "_view_module": "@jupyter-widgets/base",
      "_view_module_version": "1.2.0",
      "_view_name": "StyleView",
      "description_width": ""
     }
    },
    "0c8d735c32744700a7e55ffa9b6e178b": {
     "model_module": "@jupyter-widgets/controls",
     "model_module_version": "1.5.0",
     "model_name": "ProgressStyleModel",
     "state": {
      "_model_module": "@jupyter-widgets/controls",
      "_model_module_version": "1.5.0",
      "_model_name": "ProgressStyleModel",
      "_view_count": null,
      "_view_module": "@jupyter-widgets/base",
      "_view_module_version": "1.2.0",
      "_view_name": "StyleView",
      "bar_color": null,
      "description_width": ""
     }
    },
    "3f8ca79f6db64df39a53a1578e098f9e": {
     "model_module": "@jupyter-widgets/base",
     "model_module_version": "1.2.0",
     "model_name": "LayoutModel",
     "state": {
      "_model_module": "@jupyter-widgets/base",
      "_model_module_version": "1.2.0",
      "_model_name": "LayoutModel",
      "_view_count": null,
      "_view_module": "@jupyter-widgets/base",
      "_view_module_version": "1.2.0",
      "_view_name": "LayoutView",
      "align_content": null,
      "align_items": null,
      "align_self": null,
      "border": null,
      "bottom": null,
      "display": null,
      "flex": null,
      "flex_flow": null,
      "grid_area": null,
      "grid_auto_columns": null,
      "grid_auto_flow": null,
      "grid_auto_rows": null,
      "grid_column": null,
      "grid_gap": null,
      "grid_row": null,
      "grid_template_areas": null,
      "grid_template_columns": null,
      "grid_template_rows": null,
      "height": null,
      "justify_content": null,
      "justify_items": null,
      "left": null,
      "margin": null,
      "max_height": null,
      "max_width": null,
      "min_height": null,
      "min_width": null,
      "object_fit": null,
      "object_position": null,
      "order": null,
      "overflow": null,
      "overflow_x": null,
      "overflow_y": null,
      "padding": null,
      "right": null,
      "top": null,
      "visibility": null,
      "width": null
     }
    },
    "43025c6ecc874a35b085b82c34a99fe4": {
     "model_module": "@jupyter-widgets/controls",
     "model_module_version": "1.5.0",
     "model_name": "HTMLModel",
     "state": {
      "_dom_classes": [],
      "_model_module": "@jupyter-widgets/controls",
      "_model_module_version": "1.5.0",
      "_model_name": "HTMLModel",
      "_view_count": null,
      "_view_module": "@jupyter-widgets/controls",
      "_view_module_version": "1.5.0",
      "_view_name": "HTMLView",
      "description": "",
      "description_tooltip": null,
      "layout": "IPY_MODEL_a48cf1ccc91e42f38f299db503f84ffa",
      "placeholder": "​",
      "style": "IPY_MODEL_94a832baa15e4d2db81f85b768fe1673",
      "value": " 2/2 [01:43&lt;00:00, 46.10s/it]"
     }
    },
    "491cda8cf2204b48a5697e0481b0d50b": {
     "model_module": "@jupyter-widgets/controls",
     "model_module_version": "1.5.0",
     "model_name": "DescriptionStyleModel",
     "state": {
      "_model_module": "@jupyter-widgets/controls",
      "_model_module_version": "1.5.0",
      "_model_name": "DescriptionStyleModel",
      "_view_count": null,
      "_view_module": "@jupyter-widgets/base",
      "_view_module_version": "1.2.0",
      "_view_name": "StyleView",
      "description_width": ""
     }
    },
    "57502f8e915b45038999dd634872a088": {
     "model_module": "@jupyter-widgets/base",
     "model_module_version": "1.2.0",
     "model_name": "LayoutModel",
     "state": {
      "_model_module": "@jupyter-widgets/base",
      "_model_module_version": "1.2.0",
      "_model_name": "LayoutModel",
      "_view_count": null,
      "_view_module": "@jupyter-widgets/base",
      "_view_module_version": "1.2.0",
      "_view_name": "LayoutView",
      "align_content": null,
      "align_items": null,
      "align_self": null,
      "border": null,
      "bottom": null,
      "display": null,
      "flex": null,
      "flex_flow": null,
      "grid_area": null,
      "grid_auto_columns": null,
      "grid_auto_flow": null,
      "grid_auto_rows": null,
      "grid_column": null,
      "grid_gap": null,
      "grid_row": null,
      "grid_template_areas": null,
      "grid_template_columns": null,
      "grid_template_rows": null,
      "height": null,
      "justify_content": null,
      "justify_items": null,
      "left": null,
      "margin": null,
      "max_height": null,
      "max_width": null,
      "min_height": null,
      "min_width": null,
      "object_fit": null,
      "object_position": null,
      "order": null,
      "overflow": null,
      "overflow_x": null,
      "overflow_y": null,
      "padding": null,
      "right": null,
      "top": null,
      "visibility": null,
      "width": null
     }
    },
    "5a4d06a4eba146afb3465a379bddfebc": {
     "model_module": "@jupyter-widgets/controls",
     "model_module_version": "1.5.0",
     "model_name": "HTMLModel",
     "state": {
      "_dom_classes": [],
      "_model_module": "@jupyter-widgets/controls",
      "_model_module_version": "1.5.0",
      "_model_name": "HTMLModel",
      "_view_count": null,
      "_view_module": "@jupyter-widgets/controls",
      "_view_module_version": "1.5.0",
      "_view_name": "HTMLView",
      "description": "",
      "description_tooltip": null,
      "layout": "IPY_MODEL_c857080613a94b978667e870013a81ba",
      "placeholder": "​",
      "style": "IPY_MODEL_6ad2eed56490410a92109e09d6c912b9",
      "value": "100%"
     }
    },
    "5cb121cccadd4a8ca969d313475efd9c": {
     "model_module": "@jupyter-widgets/base",
     "model_module_version": "1.2.0",
     "model_name": "LayoutModel",
     "state": {
      "_model_module": "@jupyter-widgets/base",
      "_model_module_version": "1.2.0",
      "_model_name": "LayoutModel",
      "_view_count": null,
      "_view_module": "@jupyter-widgets/base",
      "_view_module_version": "1.2.0",
      "_view_name": "LayoutView",
      "align_content": null,
      "align_items": null,
      "align_self": null,
      "border": null,
      "bottom": null,
      "display": null,
      "flex": null,
      "flex_flow": null,
      "grid_area": null,
      "grid_auto_columns": null,
      "grid_auto_flow": null,
      "grid_auto_rows": null,
      "grid_column": null,
      "grid_gap": null,
      "grid_row": null,
      "grid_template_areas": null,
      "grid_template_columns": null,
      "grid_template_rows": null,
      "height": null,
      "justify_content": null,
      "justify_items": null,
      "left": null,
      "margin": null,
      "max_height": null,
      "max_width": null,
      "min_height": null,
      "min_width": null,
      "object_fit": null,
      "object_position": null,
      "order": null,
      "overflow": null,
      "overflow_x": null,
      "overflow_y": null,
      "padding": null,
      "right": null,
      "top": null,
      "visibility": null,
      "width": null
     }
    },
    "605670c3f3484a52b66070bbc409f8e6": {
     "model_module": "@jupyter-widgets/controls",
     "model_module_version": "1.5.0",
     "model_name": "HBoxModel",
     "state": {
      "_dom_classes": [],
      "_model_module": "@jupyter-widgets/controls",
      "_model_module_version": "1.5.0",
      "_model_name": "HBoxModel",
      "_view_count": null,
      "_view_module": "@jupyter-widgets/controls",
      "_view_module_version": "1.5.0",
      "_view_name": "HBoxView",
      "box_style": "",
      "children": [
       "IPY_MODEL_5a4d06a4eba146afb3465a379bddfebc",
       "IPY_MODEL_e0590e3103954a01b8a3f46d878c1b6e",
       "IPY_MODEL_43025c6ecc874a35b085b82c34a99fe4"
      ],
      "layout": "IPY_MODEL_ce109b1fc95d45e9ae8c6cc496dc6059"
     }
    },
    "6ad2eed56490410a92109e09d6c912b9": {
     "model_module": "@jupyter-widgets/controls",
     "model_module_version": "1.5.0",
     "model_name": "DescriptionStyleModel",
     "state": {
      "_model_module": "@jupyter-widgets/controls",
      "_model_module_version": "1.5.0",
      "_model_name": "DescriptionStyleModel",
      "_view_count": null,
      "_view_module": "@jupyter-widgets/base",
      "_view_module_version": "1.2.0",
      "_view_name": "StyleView",
      "description_width": ""
     }
    },
    "7af873dad0654de7babb74b852cb9609": {
     "model_module": "@jupyter-widgets/controls",
     "model_module_version": "1.5.0",
     "model_name": "HBoxModel",
     "state": {
      "_dom_classes": [],
      "_model_module": "@jupyter-widgets/controls",
      "_model_module_version": "1.5.0",
      "_model_name": "HBoxModel",
      "_view_count": null,
      "_view_module": "@jupyter-widgets/controls",
      "_view_module_version": "1.5.0",
      "_view_name": "HBoxView",
      "box_style": "",
      "children": [
       "IPY_MODEL_fda1ec5004bd49cf882fc3268995ae2a",
       "IPY_MODEL_7e12f55bc0ee427f997cee968f448b32",
       "IPY_MODEL_b223c7227365477e8b601c802c351fae"
      ],
      "layout": "IPY_MODEL_c500e8dac2394312a1080b580f454f6d"
     }
    },
    "7e12f55bc0ee427f997cee968f448b32": {
     "model_module": "@jupyter-widgets/controls",
     "model_module_version": "1.5.0",
     "model_name": "FloatProgressModel",
     "state": {
      "_dom_classes": [],
      "_model_module": "@jupyter-widgets/controls",
      "_model_module_version": "1.5.0",
      "_model_name": "FloatProgressModel",
      "_view_count": null,
      "_view_module": "@jupyter-widgets/controls",
      "_view_module_version": "1.5.0",
      "_view_name": "ProgressView",
      "bar_style": "danger",
      "description": "",
      "description_tooltip": null,
      "layout": "IPY_MODEL_3f8ca79f6db64df39a53a1578e098f9e",
      "max": 101,
      "min": 0,
      "orientation": "horizontal",
      "style": "IPY_MODEL_0c8d735c32744700a7e55ffa9b6e178b",
      "value": 1
     }
    },
    "90c35d215b7a4b26bf2c1d577b0aa153": {
     "model_module": "@jupyter-widgets/controls",
     "model_module_version": "1.5.0",
     "model_name": "ProgressStyleModel",
     "state": {
      "_model_module": "@jupyter-widgets/controls",
      "_model_module_version": "1.5.0",
      "_model_name": "ProgressStyleModel",
      "_view_count": null,
      "_view_module": "@jupyter-widgets/base",
      "_view_module_version": "1.2.0",
      "_view_name": "StyleView",
      "bar_color": null,
      "description_width": ""
     }
    },
    "94a832baa15e4d2db81f85b768fe1673": {
     "model_module": "@jupyter-widgets/controls",
     "model_module_version": "1.5.0",
     "model_name": "DescriptionStyleModel",
     "state": {
      "_model_module": "@jupyter-widgets/controls",
      "_model_module_version": "1.5.0",
      "_model_name": "DescriptionStyleModel",
      "_view_count": null,
      "_view_module": "@jupyter-widgets/base",
      "_view_module_version": "1.2.0",
      "_view_name": "StyleView",
      "description_width": ""
     }
    },
    "a48cf1ccc91e42f38f299db503f84ffa": {
     "model_module": "@jupyter-widgets/base",
     "model_module_version": "1.2.0",
     "model_name": "LayoutModel",
     "state": {
      "_model_module": "@jupyter-widgets/base",
      "_model_module_version": "1.2.0",
      "_model_name": "LayoutModel",
      "_view_count": null,
      "_view_module": "@jupyter-widgets/base",
      "_view_module_version": "1.2.0",
      "_view_name": "LayoutView",
      "align_content": null,
      "align_items": null,
      "align_self": null,
      "border": null,
      "bottom": null,
      "display": null,
      "flex": null,
      "flex_flow": null,
      "grid_area": null,
      "grid_auto_columns": null,
      "grid_auto_flow": null,
      "grid_auto_rows": null,
      "grid_column": null,
      "grid_gap": null,
      "grid_row": null,
      "grid_template_areas": null,
      "grid_template_columns": null,
      "grid_template_rows": null,
      "height": null,
      "justify_content": null,
      "justify_items": null,
      "left": null,
      "margin": null,
      "max_height": null,
      "max_width": null,
      "min_height": null,
      "min_width": null,
      "object_fit": null,
      "object_position": null,
      "order": null,
      "overflow": null,
      "overflow_x": null,
      "overflow_y": null,
      "padding": null,
      "right": null,
      "top": null,
      "visibility": null,
      "width": null
     }
    },
    "a4ab811c2aad4cb3a70fca0fc815b67c": {
     "model_module": "@jupyter-widgets/base",
     "model_module_version": "1.2.0",
     "model_name": "LayoutModel",
     "state": {
      "_model_module": "@jupyter-widgets/base",
      "_model_module_version": "1.2.0",
      "_model_name": "LayoutModel",
      "_view_count": null,
      "_view_module": "@jupyter-widgets/base",
      "_view_module_version": "1.2.0",
      "_view_name": "LayoutView",
      "align_content": null,
      "align_items": null,
      "align_self": null,
      "border": null,
      "bottom": null,
      "display": null,
      "flex": null,
      "flex_flow": null,
      "grid_area": null,
      "grid_auto_columns": null,
      "grid_auto_flow": null,
      "grid_auto_rows": null,
      "grid_column": null,
      "grid_gap": null,
      "grid_row": null,
      "grid_template_areas": null,
      "grid_template_columns": null,
      "grid_template_rows": null,
      "height": null,
      "justify_content": null,
      "justify_items": null,
      "left": null,
      "margin": null,
      "max_height": null,
      "max_width": null,
      "min_height": null,
      "min_width": null,
      "object_fit": null,
      "object_position": null,
      "order": null,
      "overflow": null,
      "overflow_x": null,
      "overflow_y": null,
      "padding": null,
      "right": null,
      "top": null,
      "visibility": null,
      "width": null
     }
    },
    "b223c7227365477e8b601c802c351fae": {
     "model_module": "@jupyter-widgets/controls",
     "model_module_version": "1.5.0",
     "model_name": "HTMLModel",
     "state": {
      "_dom_classes": [],
      "_model_module": "@jupyter-widgets/controls",
      "_model_module_version": "1.5.0",
      "_model_name": "HTMLModel",
      "_view_count": null,
      "_view_module": "@jupyter-widgets/controls",
      "_view_module_version": "1.5.0",
      "_view_name": "HTMLView",
      "description": "",
      "description_tooltip": null,
      "layout": "IPY_MODEL_57502f8e915b45038999dd634872a088",
      "placeholder": "​",
      "style": "IPY_MODEL_09faa784b6c340fba53ef61f9edd3911",
      "value": " 1/101 [00:00&lt;00:28,  3.46it/s]"
     }
    },
    "c500e8dac2394312a1080b580f454f6d": {
     "model_module": "@jupyter-widgets/base",
     "model_module_version": "1.2.0",
     "model_name": "LayoutModel",
     "state": {
      "_model_module": "@jupyter-widgets/base",
      "_model_module_version": "1.2.0",
      "_model_name": "LayoutModel",
      "_view_count": null,
      "_view_module": "@jupyter-widgets/base",
      "_view_module_version": "1.2.0",
      "_view_name": "LayoutView",
      "align_content": null,
      "align_items": null,
      "align_self": null,
      "border": null,
      "bottom": null,
      "display": null,
      "flex": null,
      "flex_flow": null,
      "grid_area": null,
      "grid_auto_columns": null,
      "grid_auto_flow": null,
      "grid_auto_rows": null,
      "grid_column": null,
      "grid_gap": null,
      "grid_row": null,
      "grid_template_areas": null,
      "grid_template_columns": null,
      "grid_template_rows": null,
      "height": null,
      "justify_content": null,
      "justify_items": null,
      "left": null,
      "margin": null,
      "max_height": null,
      "max_width": null,
      "min_height": null,
      "min_width": null,
      "object_fit": null,
      "object_position": null,
      "order": null,
      "overflow": null,
      "overflow_x": null,
      "overflow_y": null,
      "padding": null,
      "right": null,
      "top": null,
      "visibility": null,
      "width": null
     }
    },
    "c857080613a94b978667e870013a81ba": {
     "model_module": "@jupyter-widgets/base",
     "model_module_version": "1.2.0",
     "model_name": "LayoutModel",
     "state": {
      "_model_module": "@jupyter-widgets/base",
      "_model_module_version": "1.2.0",
      "_model_name": "LayoutModel",
      "_view_count": null,
      "_view_module": "@jupyter-widgets/base",
      "_view_module_version": "1.2.0",
      "_view_name": "LayoutView",
      "align_content": null,
      "align_items": null,
      "align_self": null,
      "border": null,
      "bottom": null,
      "display": null,
      "flex": null,
      "flex_flow": null,
      "grid_area": null,
      "grid_auto_columns": null,
      "grid_auto_flow": null,
      "grid_auto_rows": null,
      "grid_column": null,
      "grid_gap": null,
      "grid_row": null,
      "grid_template_areas": null,
      "grid_template_columns": null,
      "grid_template_rows": null,
      "height": null,
      "justify_content": null,
      "justify_items": null,
      "left": null,
      "margin": null,
      "max_height": null,
      "max_width": null,
      "min_height": null,
      "min_width": null,
      "object_fit": null,
      "object_position": null,
      "order": null,
      "overflow": null,
      "overflow_x": null,
      "overflow_y": null,
      "padding": null,
      "right": null,
      "top": null,
      "visibility": null,
      "width": null
     }
    },
    "ce109b1fc95d45e9ae8c6cc496dc6059": {
     "model_module": "@jupyter-widgets/base",
     "model_module_version": "1.2.0",
     "model_name": "LayoutModel",
     "state": {
      "_model_module": "@jupyter-widgets/base",
      "_model_module_version": "1.2.0",
      "_model_name": "LayoutModel",
      "_view_count": null,
      "_view_module": "@jupyter-widgets/base",
      "_view_module_version": "1.2.0",
      "_view_name": "LayoutView",
      "align_content": null,
      "align_items": null,
      "align_self": null,
      "border": null,
      "bottom": null,
      "display": null,
      "flex": null,
      "flex_flow": null,
      "grid_area": null,
      "grid_auto_columns": null,
      "grid_auto_flow": null,
      "grid_auto_rows": null,
      "grid_column": null,
      "grid_gap": null,
      "grid_row": null,
      "grid_template_areas": null,
      "grid_template_columns": null,
      "grid_template_rows": null,
      "height": null,
      "justify_content": null,
      "justify_items": null,
      "left": null,
      "margin": null,
      "max_height": null,
      "max_width": null,
      "min_height": null,
      "min_width": null,
      "object_fit": null,
      "object_position": null,
      "order": null,
      "overflow": null,
      "overflow_x": null,
      "overflow_y": null,
      "padding": null,
      "right": null,
      "top": null,
      "visibility": null,
      "width": null
     }
    },
    "e0590e3103954a01b8a3f46d878c1b6e": {
     "model_module": "@jupyter-widgets/controls",
     "model_module_version": "1.5.0",
     "model_name": "FloatProgressModel",
     "state": {
      "_dom_classes": [],
      "_model_module": "@jupyter-widgets/controls",
      "_model_module_version": "1.5.0",
      "_model_name": "FloatProgressModel",
      "_view_count": null,
      "_view_module": "@jupyter-widgets/controls",
      "_view_module_version": "1.5.0",
      "_view_name": "ProgressView",
      "bar_style": "success",
      "description": "",
      "description_tooltip": null,
      "layout": "IPY_MODEL_a4ab811c2aad4cb3a70fca0fc815b67c",
      "max": 2,
      "min": 0,
      "orientation": "horizontal",
      "style": "IPY_MODEL_90c35d215b7a4b26bf2c1d577b0aa153",
      "value": 2
     }
    },
    "fda1ec5004bd49cf882fc3268995ae2a": {
     "model_module": "@jupyter-widgets/controls",
     "model_module_version": "1.5.0",
     "model_name": "HTMLModel",
     "state": {
      "_dom_classes": [],
      "_model_module": "@jupyter-widgets/controls",
      "_model_module_version": "1.5.0",
      "_model_name": "HTMLModel",
      "_view_count": null,
      "_view_module": "@jupyter-widgets/controls",
      "_view_module_version": "1.5.0",
      "_view_name": "HTMLView",
      "description": "",
      "description_tooltip": null,
      "layout": "IPY_MODEL_5cb121cccadd4a8ca969d313475efd9c",
      "placeholder": "​",
      "style": "IPY_MODEL_491cda8cf2204b48a5697e0481b0d50b",
      "value": "  1%"
     }
    }
   }
  }
 },
 "nbformat": 4,
 "nbformat_minor": 1
}
