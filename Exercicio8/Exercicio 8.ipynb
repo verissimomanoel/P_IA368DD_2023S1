{
 "cells": [
  {
   "cell_type": "code",
   "execution_count": null,
   "id": "5ac109a8",
   "metadata": {},
   "outputs": [],
   "source": [
    "# !pip install -qU huggingface_hub datasets"
   ]
  },
  {
   "cell_type": "code",
   "execution_count": 1,
   "id": "87e4029a",
   "metadata": {},
   "outputs": [],
   "source": [
    "import datasets\n",
    "from huggingface_hub import login\n",
    "from datasets import load_dataset\n",
    "from tqdm.auto import tqdm\n",
    "import random\n",
    "import pandas as pd\n",
    "import pickle\n",
    "import os\n",
    "import json\n",
    "from pyserini.search.lucene import LuceneSearcher\n",
    "\n",
    "random.seed(12)"
   ]
  },
  {
   "cell_type": "code",
   "execution_count": 2,
   "id": "8d893cc2",
   "metadata": {},
   "outputs": [],
   "source": [
    "# login()"
   ]
  },
  {
   "cell_type": "code",
   "execution_count": 3,
   "id": "a3c88211",
   "metadata": {},
   "outputs": [],
   "source": [
    "base_path = \".\""
   ]
  },
  {
   "cell_type": "code",
   "execution_count": 4,
   "id": "8213ce32",
   "metadata": {},
   "outputs": [],
   "source": [
    "def get_passages():\n",
    "    pickle_file = f\"{base_path}/data/passages.pickle\"\n",
    "    passages_dataset = load_dataset(\"BeIR/trec-covid\", \"corpus\")\n",
    "\n",
    "    if not os.path.isfile(pickle_file):\n",
    "        passages = {}\n",
    "        for item in tqdm(passages_dataset[\"corpus\"]):\n",
    "            passages[item[\"_id\"]] = {\n",
    "                \"fulltext\": item[\"title\"] + \" \" + item[\"text\"]\n",
    "            }\n",
    "\n",
    "        with open(pickle_file, \"wb\") as f:\n",
    "            pickle.dump(passages, f)\n",
    "    else:\n",
    "        with open(pickle_file, \"rb\") as f:\n",
    "            passages = pickle.load(f)\n",
    "\n",
    "    return passages"
   ]
  },
  {
   "cell_type": "code",
   "execution_count": 5,
   "id": "047b192b",
   "metadata": {},
   "outputs": [],
   "source": [
    "def generate_negative_samples(query, doc_ids, origin):\n",
    "    negative_samples = []\n",
    "    \n",
    "    count = 1\n",
    "    for doc_id in doc_ids:\n",
    "        fulltext = passages[doc_id][\"fulltext\"]\n",
    "        \n",
    "        sample = {\n",
    "            \"id\": doc_id,\n",
    "            \"query\": query,\n",
    "            \"passage\": fulltext,\n",
    "            \"origin\": origin\n",
    "        }\n",
    "        negative_samples.append(sample)\n",
    "        \n",
    "        if count == 5:\n",
    "            break\n",
    "            \n",
    "        count += 1\n",
    "        \n",
    "    return negative_samples"
   ]
  },
  {
   "cell_type": "code",
   "execution_count": 6,
   "id": "27755f0d",
   "metadata": {},
   "outputs": [],
   "source": [
    "def get_samples():\n",
    "    trec_ds = datasets.load_dataset('unicamp-dl/trec-covid-experiment')\n",
    "    positive_samples = []\n",
    "    negative_samples = []\n",
    "\n",
    "    for ds in trec_ds:\n",
    "        if \"example\" not in ds:\n",
    "            for item in tqdm(trec_ds[ds]):\n",
    "                positive_doc_id = item[\"positive_doc_id\"]\n",
    "                fulltext = passages[positive_doc_id][\"fulltext\"]\n",
    "                \n",
    "                sample = {\n",
    "                    \"id\": positive_doc_id,\n",
    "                    \"query\": item[\"query\"],\n",
    "                    \"passage\": fulltext,\n",
    "                    \"origin\": ds\n",
    "                }\n",
    "                positive_samples.append(sample)\n",
    "                \n",
    "                if len(item[\"negative_doc_ids\"]) > 0:\n",
    "                    random_doc_ids = item[\"negative_doc_ids\"]\n",
    "                else:\n",
    "                    random_doc_ids = search_with_bm25(item[\"query\"])\n",
    "                    \n",
    "                negative_samples.extend(generate_negative_samples(item[\"query\"], random_doc_ids, ds))\n",
    "\n",
    "    df_data_pos = pd.DataFrame(positive_samples)\n",
    "    df_data_pos[\"score\"] = 1\n",
    "\n",
    "    df_data_neg = pd.DataFrame(negative_samples)\n",
    "    df_data_neg[\"score\"] = 0\n",
    "\n",
    "    df_data_merge = pd.concat([df_data_pos, df_data_neg], axis=0, ignore_index=True)\n",
    "    \n",
    "    df_data_merge.to_csv(f\"{base_path}/data/data.csv\")\n",
    "\n",
    "    return df_data_merge"
   ]
  },
  {
   "cell_type": "code",
   "execution_count": 7,
   "id": "d62d8308",
   "metadata": {},
   "outputs": [],
   "source": [
    "def generate_ramdom_numbers(max=5, k=1000):\n",
    "    random_list = []\n",
    "    while len(random_list) < max:\n",
    "        n = random.randint(0, k - 1)\n",
    "\n",
    "        # Prevent duplicated index\n",
    "        if n not in random_list:\n",
    "            random_list.append(n)\n",
    "\n",
    "    return random_list"
   ]
  },
  {
   "cell_type": "code",
   "execution_count": 8,
   "id": "67d6e21d",
   "metadata": {},
   "outputs": [],
   "source": [
    "def search_with_bm25(query, max=5, k=1000):\n",
    "    searcher = LuceneSearcher.from_prebuilt_index('beir-v1.0.0-trec-covid.flat')\n",
    "    hits = searcher.search(query, k)\n",
    "    random_list = generate_ramdom_numbers(max=max, k=k)\n",
    "    random_ids = []\n",
    "\n",
    "    for index in random_list:\n",
    "        jsondoc = json.loads(hits[index].raw)\n",
    "        random_ids.append(jsondoc[\"_id\"])\n",
    "\n",
    "    return random_ids"
   ]
  },
  {
   "cell_type": "code",
   "execution_count": 9,
   "id": "04d8810d",
   "metadata": {},
   "outputs": [
    {
     "name": "stderr",
     "output_type": "stream",
     "text": [
      "Found cached dataset trec-covid (/home/manoel/.cache/huggingface/datasets/BeIR___trec-covid/corpus/0.0.0/093f1fe2ffa7a9c72fa48239c8f279b51d6b171abd77737c7fd1406125307599)\n"
     ]
    },
    {
     "data": {
      "application/vnd.jupyter.widget-view+json": {
       "model_id": "5358aa63e53747cebc0da8b8e27e97e4",
       "version_major": 2,
       "version_minor": 0
      },
      "text/plain": [
       "  0%|          | 0/1 [00:00<?, ?it/s]"
      ]
     },
     "metadata": {},
     "output_type": "display_data"
    }
   ],
   "source": [
    "passages = get_passages()"
   ]
  },
  {
   "cell_type": "code",
   "execution_count": 10,
   "id": "0e9f9d85",
   "metadata": {},
   "outputs": [
    {
     "name": "stderr",
     "output_type": "stream",
     "text": [
      "Found cached dataset trec-covid-experiment (/home/manoel/.cache/huggingface/datasets/unicamp-dl___trec-covid-experiment/default/0.0.0/408acea7f1921299714cb2c40d35a0c61e678a84ba7ab64fe1b521654d417ed0)\n"
     ]
    },
    {
     "data": {
      "application/vnd.jupyter.widget-view+json": {
       "model_id": "27426f626a90444b9867605b2087e1c6",
       "version_major": 2,
       "version_minor": 0
      },
      "text/plain": [
       "  0%|          | 0/13 [00:00<?, ?it/s]"
      ]
     },
     "metadata": {},
     "output_type": "display_data"
    },
    {
     "data": {
      "application/vnd.jupyter.widget-view+json": {
       "model_id": "a2a57ab16aaa4a3785e10d7f9e3aeaa5",
       "version_major": 2,
       "version_minor": 0
      },
      "text/plain": [
       "  0%|          | 0/463 [00:00<?, ?it/s]"
      ]
     },
     "metadata": {},
     "output_type": "display_data"
    },
    {
     "data": {
      "application/vnd.jupyter.widget-view+json": {
       "model_id": "738e88f076974aa99f6b62aec98c9434",
       "version_major": 2,
       "version_minor": 0
      },
      "text/plain": [
       "  0%|          | 0/1001 [00:00<?, ?it/s]"
      ]
     },
     "metadata": {},
     "output_type": "display_data"
    },
    {
     "data": {
      "application/vnd.jupyter.widget-view+json": {
       "model_id": "d415964dc87d4e4d948a1beb20f6d025",
       "version_major": 2,
       "version_minor": 0
      },
      "text/plain": [
       "  0%|          | 0/1000 [00:00<?, ?it/s]"
      ]
     },
     "metadata": {},
     "output_type": "display_data"
    },
    {
     "data": {
      "application/vnd.jupyter.widget-view+json": {
       "model_id": "79d610ecdf3a48fb9bd5512f6244082b",
       "version_major": 2,
       "version_minor": 0
      },
      "text/plain": [
       "  0%|          | 0/1000 [00:00<?, ?it/s]"
      ]
     },
     "metadata": {},
     "output_type": "display_data"
    },
    {
     "data": {
      "application/vnd.jupyter.widget-view+json": {
       "model_id": "b47bdb62afc045ec924ff2aac7559196",
       "version_major": 2,
       "version_minor": 0
      },
      "text/plain": [
       "  0%|          | 0/2000 [00:00<?, ?it/s]"
      ]
     },
     "metadata": {},
     "output_type": "display_data"
    },
    {
     "data": {
      "application/vnd.jupyter.widget-view+json": {
       "model_id": "ccf76414d44b4c8da1e9e755b0a17fbf",
       "version_major": 2,
       "version_minor": 0
      },
      "text/plain": [
       "  0%|          | 0/1000 [00:00<?, ?it/s]"
      ]
     },
     "metadata": {},
     "output_type": "display_data"
    },
    {
     "data": {
      "application/vnd.jupyter.widget-view+json": {
       "model_id": "31c9e46a297d47b18b63660f661d6641",
       "version_major": 2,
       "version_minor": 0
      },
      "text/plain": [
       "  0%|          | 0/999 [00:00<?, ?it/s]"
      ]
     },
     "metadata": {},
     "output_type": "display_data"
    },
    {
     "data": {
      "application/vnd.jupyter.widget-view+json": {
       "model_id": "337b7826263a4ef19e11cbda3bc58932",
       "version_major": 2,
       "version_minor": 0
      },
      "text/plain": [
       "  0%|          | 0/979 [00:00<?, ?it/s]"
      ]
     },
     "metadata": {},
     "output_type": "display_data"
    },
    {
     "data": {
      "application/vnd.jupyter.widget-view+json": {
       "model_id": "5145165bafdb4277a5b7f307e5ecce34",
       "version_major": 2,
       "version_minor": 0
      },
      "text/plain": [
       "  0%|          | 0/1000 [00:00<?, ?it/s]"
      ]
     },
     "metadata": {},
     "output_type": "display_data"
    },
    {
     "data": {
      "application/vnd.jupyter.widget-view+json": {
       "model_id": "8fc3b24e6c234e67bb4064f165eba924",
       "version_major": 2,
       "version_minor": 0
      },
      "text/plain": [
       "  0%|          | 0/1000 [00:00<?, ?it/s]"
      ]
     },
     "metadata": {},
     "output_type": "display_data"
    },
    {
     "data": {
      "application/vnd.jupyter.widget-view+json": {
       "model_id": "af6abc3d7a094a608acfa2dc00a24bf6",
       "version_major": 2,
       "version_minor": 0
      },
      "text/plain": [
       "  0%|          | 0/1088 [00:00<?, ?it/s]"
      ]
     },
     "metadata": {},
     "output_type": "display_data"
    }
   ],
   "source": [
    "df_data = get_samples()"
   ]
  },
  {
   "cell_type": "code",
   "execution_count": 11,
   "id": "e52e938a",
   "metadata": {},
   "outputs": [
    {
     "name": "stdout",
     "output_type": "stream",
     "text": [
      "<class 'pandas.core.frame.DataFrame'>\n",
      "RangeIndex: 69180 entries, 0 to 69179\n",
      "Data columns (total 5 columns):\n",
      " #   Column   Non-Null Count  Dtype \n",
      "---  ------   --------------  ----- \n",
      " 0   id       69180 non-null  object\n",
      " 1   query    69180 non-null  object\n",
      " 2   passage  69180 non-null  object\n",
      " 3   origin   69180 non-null  object\n",
      " 4   score    69180 non-null  int64 \n",
      "dtypes: int64(1), object(4)\n",
      "memory usage: 2.6+ MB\n"
     ]
    }
   ],
   "source": [
    "df_data.info()"
   ]
  },
  {
   "cell_type": "code",
   "execution_count": 12,
   "id": "cda71d07",
   "metadata": {},
   "outputs": [
    {
     "data": {
      "text/html": [
       "<div>\n",
       "<style scoped>\n",
       "    .dataframe tbody tr th:only-of-type {\n",
       "        vertical-align: middle;\n",
       "    }\n",
       "\n",
       "    .dataframe tbody tr th {\n",
       "        vertical-align: top;\n",
       "    }\n",
       "\n",
       "    .dataframe thead th {\n",
       "        text-align: right;\n",
       "    }\n",
       "</style>\n",
       "<table border=\"1\" class=\"dataframe\">\n",
       "  <thead>\n",
       "    <tr style=\"text-align: right;\">\n",
       "      <th></th>\n",
       "      <th>id</th>\n",
       "      <th>query</th>\n",
       "      <th>passage</th>\n",
       "      <th>origin</th>\n",
       "      <th>score</th>\n",
       "    </tr>\n",
       "  </thead>\n",
       "  <tbody>\n",
       "    <tr>\n",
       "      <th>0</th>\n",
       "      <td>70hskj1o</td>\n",
       "      <td>How can chatbots be designed to effectively sh...</td>\n",
       "      <td>Chatbots in the fight against the COVID-19 pan...</td>\n",
       "      <td>eduseiti_100_queries_expansion_20230501_01</td>\n",
       "      <td>1</td>\n",
       "    </tr>\n",
       "    <tr>\n",
       "      <th>1</th>\n",
       "      <td>70hskj1o</td>\n",
       "      <td>What strategies can be used to encourage desir...</td>\n",
       "      <td>Chatbots in the fight against the COVID-19 pan...</td>\n",
       "      <td>eduseiti_100_queries_expansion_20230501_01</td>\n",
       "      <td>1</td>\n",
       "    </tr>\n",
       "    <tr>\n",
       "      <th>2</th>\n",
       "      <td>70hskj1o</td>\n",
       "      <td>What are the risks associated with amplifying ...</td>\n",
       "      <td>Chatbots in the fight against the COVID-19 pan...</td>\n",
       "      <td>eduseiti_100_queries_expansion_20230501_01</td>\n",
       "      <td>1</td>\n",
       "    </tr>\n",
       "    <tr>\n",
       "      <th>3</th>\n",
       "      <td>70hskj1o</td>\n",
       "      <td>What research has been conducted on the effect...</td>\n",
       "      <td>Chatbots in the fight against the COVID-19 pan...</td>\n",
       "      <td>eduseiti_100_queries_expansion_20230501_01</td>\n",
       "      <td>1</td>\n",
       "    </tr>\n",
       "    <tr>\n",
       "      <th>4</th>\n",
       "      <td>70hskj1o</td>\n",
       "      <td>How can collaborations between healthcare work...</td>\n",
       "      <td>Chatbots in the fight against the COVID-19 pan...</td>\n",
       "      <td>eduseiti_100_queries_expansion_20230501_01</td>\n",
       "      <td>1</td>\n",
       "    </tr>\n",
       "  </tbody>\n",
       "</table>\n",
       "</div>"
      ],
      "text/plain": [
       "         id                                              query  \\\n",
       "0  70hskj1o  How can chatbots be designed to effectively sh...   \n",
       "1  70hskj1o  What strategies can be used to encourage desir...   \n",
       "2  70hskj1o  What are the risks associated with amplifying ...   \n",
       "3  70hskj1o  What research has been conducted on the effect...   \n",
       "4  70hskj1o  How can collaborations between healthcare work...   \n",
       "\n",
       "                                             passage  \\\n",
       "0  Chatbots in the fight against the COVID-19 pan...   \n",
       "1  Chatbots in the fight against the COVID-19 pan...   \n",
       "2  Chatbots in the fight against the COVID-19 pan...   \n",
       "3  Chatbots in the fight against the COVID-19 pan...   \n",
       "4  Chatbots in the fight against the COVID-19 pan...   \n",
       "\n",
       "                                       origin  score  \n",
       "0  eduseiti_100_queries_expansion_20230501_01      1  \n",
       "1  eduseiti_100_queries_expansion_20230501_01      1  \n",
       "2  eduseiti_100_queries_expansion_20230501_01      1  \n",
       "3  eduseiti_100_queries_expansion_20230501_01      1  \n",
       "4  eduseiti_100_queries_expansion_20230501_01      1  "
      ]
     },
     "execution_count": 12,
     "metadata": {},
     "output_type": "execute_result"
    }
   ],
   "source": [
    "df_data.head()"
   ]
  },
  {
   "cell_type": "code",
   "execution_count": null,
   "id": "e99bd654",
   "metadata": {},
   "outputs": [],
   "source": [
    "df_data[\"query\"].duplicated().sum()"
   ]
  },
  {
   "cell_type": "code",
   "execution_count": null,
   "id": "f817a1ab",
   "metadata": {},
   "outputs": [],
   "source": [
    "df_duplicated = df_data.duplicated(subset=['query'])"
   ]
  },
  {
   "cell_type": "code",
   "execution_count": null,
   "id": "be745c1f",
   "metadata": {},
   "outputs": [],
   "source": [
    "df_duplicated.info()"
   ]
  },
  {
   "cell_type": "code",
   "execution_count": null,
   "id": "fe506d38",
   "metadata": {},
   "outputs": [],
   "source": [
    "df_duplicated.head()"
   ]
  },
  {
   "cell_type": "code",
   "execution_count": null,
   "id": "1214cca5",
   "metadata": {},
   "outputs": [],
   "source": [
    "df_data.loc[df_data.duplicated(), :]"
   ]
  },
  {
   "cell_type": "code",
   "execution_count": null,
   "id": "754da863",
   "metadata": {},
   "outputs": [],
   "source": []
  },
  {
   "cell_type": "code",
   "execution_count": null,
   "id": "12276e0e",
   "metadata": {},
   "outputs": [],
   "source": [
    "trec_ds = datasets.load_dataset('unicamp-dl/trec-covid-experiment')\n",
    "positive_samples = []\n",
    "negative_samples = []\n",
    "\n",
    "for ds in trec_ds:\n",
    "    if \"example\" not in ds:\n",
    "        for item in tqdm(trec_ds[ds]):\n",
    "            positive_doc_id = item[\"positive_doc_id\"]\n",
    "            fulltext = passages[positive_doc_id][\"fulltext\"]\n",
    "\n",
    "            sample = {\n",
    "                \"id\": positive_doc_id,\n",
    "                \"query\": item[\"query\"],\n",
    "                \"passage\": fulltext,\n",
    "                \"origin\": ds\n",
    "            }\n",
    "            positive_samples.append(sample)\n",
    "\n",
    "            if len(item[\"negative_doc_ids\"]) > 0:\n",
    "                random_doc_ids = item[\"negative_doc_ids\"]\n",
    "            else:\n",
    "                random_doc_ids = search_with_bm25(item[\"query\"])\n",
    "\n",
    "            negative_samples.append(generate_negative_samples(item[\"query\"], random_doc_ids, ds))\n",
    "\n",
    "df_data_pos = pd.DataFrame(positive_samples)\n",
    "df_data_pos[\"score\"] = 1\n",
    "\n",
    "df_data_neg = pd.DataFrame(negative_samples)\n",
    "df_data_neg[\"score\"] = 0"
   ]
  },
  {
   "cell_type": "code",
   "execution_count": null,
   "id": "442ec7f3",
   "metadata": {},
   "outputs": [],
   "source": [
    "df_data_pos.info()"
   ]
  },
  {
   "cell_type": "code",
   "execution_count": null,
   "id": "4f5ced92",
   "metadata": {},
   "outputs": [],
   "source": [
    "df_data_neg.info()"
   ]
  },
  {
   "cell_type": "code",
   "execution_count": null,
   "id": "c8b5906f",
   "metadata": {},
   "outputs": [],
   "source": [
    "df_data_merge = pd.concat([df_data_pos, df_data_neg], axis=0, ignore_index=True)"
   ]
  }
 ],
 "metadata": {
  "kernelspec": {
   "display_name": "Python 3 (ipykernel)",
   "language": "python",
   "name": "python3"
  },
  "language_info": {
   "codemirror_mode": {
    "name": "ipython",
    "version": 3
   },
   "file_extension": ".py",
   "mimetype": "text/x-python",
   "name": "python",
   "nbconvert_exporter": "python",
   "pygments_lexer": "ipython3",
   "version": "3.9.0"
  }
 },
 "nbformat": 4,
 "nbformat_minor": 5
}
