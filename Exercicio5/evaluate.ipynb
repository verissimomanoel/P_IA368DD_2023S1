{
 "cells": [
  {
   "cell_type": "code",
   "execution_count": 1,
   "id": "aecea58b",
   "metadata": {},
   "outputs": [],
   "source": [
    "import json\n",
    "from evaluate import load\n",
    "import pandas as pd\n",
    "from tqdm.auto import tqdm\n",
    "import pickle"
   ]
  },
  {
   "cell_type": "code",
   "execution_count": 2,
   "id": "919186b4",
   "metadata": {},
   "outputs": [],
   "source": [
    "base_path = \".\"\n",
    "topics = \"trec-covid\"\n",
    "expand_doc = \"generated_expansion.pkl\""
   ]
  },
  {
   "cell_type": "code",
   "execution_count": 3,
   "id": "57779e5d",
   "metadata": {},
   "outputs": [],
   "source": [
    "# Mudar o formato de jsonl para tsv\n",
    "with open(f'{base_path}/data/queries.tsv','w') as output:\n",
    "    with open(f'{base_path}/data/queries.jsonl', 'r') as file:\n",
    "        for line in file:\n",
    "            data = json.loads(line)\n",
    "            id = data['_id']\n",
    "            text = data['text']\n",
    "            output.write(f'{id}\\t{text}\\n')"
   ]
  },
  {
   "cell_type": "code",
   "execution_count": 4,
   "id": "87f815cc",
   "metadata": {},
   "outputs": [
    {
     "name": "stdout",
     "output_type": "stream",
     "text": [
      "Setting BM25 parameters: k1=0.82, b=0.68\n",
      "Running ./data/queries.tsv topics, saving to ./runs/run.trec-covid.bm25tuned.txt...\n",
      "100%|███████████████████████████████████████████| 50/50 [00:13<00:00,  3.58it/s]\n"
     ]
    }
   ],
   "source": [
    "!python -m pyserini.search.lucene \\\n",
    "  --index ~/.cache/pyserini/indexes/lucene-index.beir-v1.0.0-trec-covid.flat.20221116.505594 \\\n",
    "  --topics {base_path}/data/queries.tsv \\\n",
    "  --output {base_path}/runs/run.{topics}.bm25tuned.txt \\\n",
    "  --hits 1000 \\\n",
    "  --bm25 --k1 0.82 --b 0.68"
   ]
  },
  {
   "cell_type": "code",
   "execution_count": 5,
   "id": "53b0afb8",
   "metadata": {},
   "outputs": [],
   "source": [
    "qrel = pd.read_csv(f\"{base_path}/data/test.tsv\", sep=\"\\t\", header=None, \n",
    "                   skiprows=1, names=[\"query\", \"docid\", \"rel\"])\n",
    "qrel[\"q0\"] = \"q0\"\n",
    "qrel = qrel.to_dict(orient=\"list\")"
   ]
  },
  {
   "cell_type": "code",
   "execution_count": 6,
   "id": "0050f979",
   "metadata": {},
   "outputs": [],
   "source": [
    "run = pd.read_csv(f\"{base_path}/runs/run.{topics}.bm25tuned.txt\", sep=\"\\s+\", \n",
    "                  names=[\"query\", \"q0\", \"docid\", \"rank\", \"score\", \"system\"])\n",
    "run = run.to_dict(orient=\"list\")"
   ]
  },
  {
   "cell_type": "code",
   "execution_count": 7,
   "id": "e98fff51",
   "metadata": {},
   "outputs": [],
   "source": [
    "trec_eval = load(\"trec_eval\")\n",
    "results = trec_eval.compute(predictions=[run], references=[qrel])"
   ]
  },
  {
   "cell_type": "code",
   "execution_count": 8,
   "id": "4b7e460e",
   "metadata": {},
   "outputs": [
    {
     "data": {
      "text/plain": [
       "0.5963435398557583"
      ]
     },
     "execution_count": 8,
     "metadata": {},
     "output_type": "execute_result"
    }
   ],
   "source": [
    "results['NDCG@10']"
   ]
  },
  {
   "cell_type": "code",
   "execution_count": 9,
   "id": "91db8f21",
   "metadata": {},
   "outputs": [],
   "source": [
    "with open(expand_doc, \"rb\") as file:\n",
    "    exp_df = pd.DataFrame(pickle.load(file))"
   ]
  },
  {
   "cell_type": "code",
   "execution_count": 10,
   "id": "cf4de5e2",
   "metadata": {},
   "outputs": [
    {
     "data": {
      "text/html": [
       "<div>\n",
       "<style scoped>\n",
       "    .dataframe tbody tr th:only-of-type {\n",
       "        vertical-align: middle;\n",
       "    }\n",
       "\n",
       "    .dataframe tbody tr th {\n",
       "        vertical-align: top;\n",
       "    }\n",
       "\n",
       "    .dataframe thead th {\n",
       "        text-align: right;\n",
       "    }\n",
       "</style>\n",
       "<table border=\"1\" class=\"dataframe\">\n",
       "  <thead>\n",
       "    <tr style=\"text-align: right;\">\n",
       "      <th></th>\n",
       "      <th>doc_indexes</th>\n",
       "      <th>doc_expansion</th>\n",
       "    </tr>\n",
       "  </thead>\n",
       "  <tbody>\n",
       "    <tr>\n",
       "      <th>0</th>\n",
       "      <td>0</td>\n",
       "      <td>what were some of the common symptoms of pneum...</td>\n",
       "    </tr>\n",
       "    <tr>\n",
       "      <th>1</th>\n",
       "      <td>1</td>\n",
       "      <td>NO• and lung inflammation what is NO• in respi...</td>\n",
       "    </tr>\n",
       "    <tr>\n",
       "      <th>2</th>\n",
       "      <td>2</td>\n",
       "      <td>does sp-d interact with proinflammatory molecu...</td>\n",
       "    </tr>\n",
       "    <tr>\n",
       "      <th>3</th>\n",
       "      <td>3</td>\n",
       "      <td>what is the biology of et-1 endothelin-1 role ...</td>\n",
       "    </tr>\n",
       "    <tr>\n",
       "      <th>4</th>\n",
       "      <td>4</td>\n",
       "      <td>what does respiratory syncytial virus do respi...</td>\n",
       "    </tr>\n",
       "  </tbody>\n",
       "</table>\n",
       "</div>"
      ],
      "text/plain": [
       "   doc_indexes                                      doc_expansion\n",
       "0            0  what were some of the common symptoms of pneum...\n",
       "1            1  NO• and lung inflammation what is NO• in respi...\n",
       "2            2  does sp-d interact with proinflammatory molecu...\n",
       "3            3  what is the biology of et-1 endothelin-1 role ...\n",
       "4            4  what does respiratory syncytial virus do respi..."
      ]
     },
     "execution_count": 10,
     "metadata": {},
     "output_type": "execute_result"
    }
   ],
   "source": [
    "exp_df.head()"
   ]
  },
  {
   "cell_type": "code",
   "execution_count": 11,
   "id": "2df7b7b1",
   "metadata": {},
   "outputs": [],
   "source": [
    "trec_covid_corpus_df = pd.read_csv(f\"{base_path}/data/corpus.tsv\", sep='\\t', names=[\"id\", \"text\"])\n",
    "trec_covid_corpus_df = trec_covid_corpus_df.dropna()"
   ]
  },
  {
   "cell_type": "code",
   "execution_count": 12,
   "id": "9593a16b",
   "metadata": {},
   "outputs": [
    {
     "data": {
      "text/html": [
       "<div>\n",
       "<style scoped>\n",
       "    .dataframe tbody tr th:only-of-type {\n",
       "        vertical-align: middle;\n",
       "    }\n",
       "\n",
       "    .dataframe tbody tr th {\n",
       "        vertical-align: top;\n",
       "    }\n",
       "\n",
       "    .dataframe thead th {\n",
       "        text-align: right;\n",
       "    }\n",
       "</style>\n",
       "<table border=\"1\" class=\"dataframe\">\n",
       "  <thead>\n",
       "    <tr style=\"text-align: right;\">\n",
       "      <th></th>\n",
       "      <th>doc_indexes</th>\n",
       "      <th>doc_expansion</th>\n",
       "    </tr>\n",
       "    <tr>\n",
       "      <th>doc_indexes</th>\n",
       "      <th></th>\n",
       "      <th></th>\n",
       "    </tr>\n",
       "  </thead>\n",
       "  <tbody>\n",
       "    <tr>\n",
       "      <th>0</th>\n",
       "      <td>0</td>\n",
       "      <td>what were some of the common symptoms of pneum...</td>\n",
       "    </tr>\n",
       "    <tr>\n",
       "      <th>1</th>\n",
       "      <td>1</td>\n",
       "      <td>NO• and lung inflammation what is NO• in respi...</td>\n",
       "    </tr>\n",
       "    <tr>\n",
       "      <th>2</th>\n",
       "      <td>2</td>\n",
       "      <td>does sp-d interact with proinflammatory molecu...</td>\n",
       "    </tr>\n",
       "    <tr>\n",
       "      <th>3</th>\n",
       "      <td>3</td>\n",
       "      <td>what is the biology of et-1 endothelin-1 role ...</td>\n",
       "    </tr>\n",
       "    <tr>\n",
       "      <th>4</th>\n",
       "      <td>4</td>\n",
       "      <td>what does respiratory syncytial virus do respi...</td>\n",
       "    </tr>\n",
       "    <tr>\n",
       "      <th>...</th>\n",
       "      <td>...</td>\n",
       "      <td>...</td>\n",
       "    </tr>\n",
       "    <tr>\n",
       "      <th>171325</th>\n",
       "      <td>171325</td>\n",
       "      <td>what factors affect health in the global popul...</td>\n",
       "    </tr>\n",
       "    <tr>\n",
       "      <th>171326</th>\n",
       "      <td>171326</td>\n",
       "      <td>how does a small business affect its employees...</td>\n",
       "    </tr>\n",
       "    <tr>\n",
       "      <th>171328</th>\n",
       "      <td>171328</td>\n",
       "      <td>what is the functional function of the imm in ...</td>\n",
       "    </tr>\n",
       "    <tr>\n",
       "      <th>171329</th>\n",
       "      <td>171329</td>\n",
       "      <td>what is the sarse antibody where does phenylal...</td>\n",
       "    </tr>\n",
       "    <tr>\n",
       "      <th>171330</th>\n",
       "      <td>171330</td>\n",
       "      <td>what is the standard of care for concomitant c...</td>\n",
       "    </tr>\n",
       "  </tbody>\n",
       "</table>\n",
       "<p>129191 rows × 2 columns</p>\n",
       "</div>"
      ],
      "text/plain": [
       "             doc_indexes                                      doc_expansion\n",
       "doc_indexes                                                                \n",
       "0                      0  what were some of the common symptoms of pneum...\n",
       "1                      1  NO• and lung inflammation what is NO• in respi...\n",
       "2                      2  does sp-d interact with proinflammatory molecu...\n",
       "3                      3  what is the biology of et-1 endothelin-1 role ...\n",
       "4                      4  what does respiratory syncytial virus do respi...\n",
       "...                  ...                                                ...\n",
       "171325            171325  what factors affect health in the global popul...\n",
       "171326            171326  how does a small business affect its employees...\n",
       "171328            171328  what is the functional function of the imm in ...\n",
       "171329            171329  what is the sarse antibody where does phenylal...\n",
       "171330            171330  what is the standard of care for concomitant c...\n",
       "\n",
       "[129191 rows x 2 columns]"
      ]
     },
     "execution_count": 12,
     "metadata": {},
     "output_type": "execute_result"
    }
   ],
   "source": [
    "exp_df.set_index(exp_df['doc_indexes'])"
   ]
  },
  {
   "cell_type": "code",
   "execution_count": 13,
   "id": "e742d06b",
   "metadata": {},
   "outputs": [],
   "source": [
    "trec_covid_expanded_df = trec_covid_corpus_df.merge(exp_df.set_index(exp_df['doc_indexes']), left_index=True, right_index=True, how='left')"
   ]
  },
  {
   "cell_type": "code",
   "execution_count": 14,
   "id": "375c6254",
   "metadata": {},
   "outputs": [],
   "source": [
    "trec_covid_expanded_df['text'] = trec_covid_expanded_df['text'] + trec_covid_expanded_df['doc_expansion'].fillna(\"\")"
   ]
  },
  {
   "cell_type": "code",
   "execution_count": 15,
   "id": "45339619",
   "metadata": {},
   "outputs": [],
   "source": [
    "trec_covid_expanded_df.rename(columns={'id': '_id'}, inplace=True)"
   ]
  },
  {
   "cell_type": "code",
   "execution_count": 16,
   "id": "879f3923",
   "metadata": {},
   "outputs": [
    {
     "data": {
      "text/html": [
       "<div>\n",
       "<style scoped>\n",
       "    .dataframe tbody tr th:only-of-type {\n",
       "        vertical-align: middle;\n",
       "    }\n",
       "\n",
       "    .dataframe tbody tr th {\n",
       "        vertical-align: top;\n",
       "    }\n",
       "\n",
       "    .dataframe thead th {\n",
       "        text-align: right;\n",
       "    }\n",
       "</style>\n",
       "<table border=\"1\" class=\"dataframe\">\n",
       "  <thead>\n",
       "    <tr style=\"text-align: right;\">\n",
       "      <th></th>\n",
       "      <th>_id</th>\n",
       "      <th>text</th>\n",
       "      <th>doc_indexes</th>\n",
       "      <th>doc_expansion</th>\n",
       "    </tr>\n",
       "  </thead>\n",
       "  <tbody>\n",
       "    <tr>\n",
       "      <th>0</th>\n",
       "      <td>ug7v899j</td>\n",
       "      <td>OBJECTIVE: This retrospective chart review des...</td>\n",
       "      <td>0.0</td>\n",
       "      <td>what were some of the common symptoms of pneum...</td>\n",
       "    </tr>\n",
       "    <tr>\n",
       "      <th>1</th>\n",
       "      <td>02tnwd4m</td>\n",
       "      <td>Inflammatory diseases of the respiratory tract...</td>\n",
       "      <td>1.0</td>\n",
       "      <td>NO• and lung inflammation what is NO• in respi...</td>\n",
       "    </tr>\n",
       "    <tr>\n",
       "      <th>2</th>\n",
       "      <td>ejv2xln0</td>\n",
       "      <td>Surfactant protein-D (SP-D) participates in th...</td>\n",
       "      <td>2.0</td>\n",
       "      <td>does sp-d interact with proinflammatory molecu...</td>\n",
       "    </tr>\n",
       "    <tr>\n",
       "      <th>3</th>\n",
       "      <td>2b73a28n</td>\n",
       "      <td>Endothelin-1 (ET-1) is a 21 amino acid peptide...</td>\n",
       "      <td>3.0</td>\n",
       "      <td>what is the biology of et-1 endothelin-1 role ...</td>\n",
       "    </tr>\n",
       "    <tr>\n",
       "      <th>4</th>\n",
       "      <td>9785vg6d</td>\n",
       "      <td>Respiratory syncytial virus (RSV) and pneumoni...</td>\n",
       "      <td>4.0</td>\n",
       "      <td>what does respiratory syncytial virus do respi...</td>\n",
       "    </tr>\n",
       "  </tbody>\n",
       "</table>\n",
       "</div>"
      ],
      "text/plain": [
       "        _id                                               text  doc_indexes  \\\n",
       "0  ug7v899j  OBJECTIVE: This retrospective chart review des...          0.0   \n",
       "1  02tnwd4m  Inflammatory diseases of the respiratory tract...          1.0   \n",
       "2  ejv2xln0  Surfactant protein-D (SP-D) participates in th...          2.0   \n",
       "3  2b73a28n  Endothelin-1 (ET-1) is a 21 amino acid peptide...          3.0   \n",
       "4  9785vg6d  Respiratory syncytial virus (RSV) and pneumoni...          4.0   \n",
       "\n",
       "                                       doc_expansion  \n",
       "0  what were some of the common symptoms of pneum...  \n",
       "1  NO• and lung inflammation what is NO• in respi...  \n",
       "2  does sp-d interact with proinflammatory molecu...  \n",
       "3  what is the biology of et-1 endothelin-1 role ...  \n",
       "4  what does respiratory syncytial virus do respi...  "
      ]
     },
     "execution_count": 16,
     "metadata": {},
     "output_type": "execute_result"
    }
   ],
   "source": [
    "trec_covid_expanded_df.head()"
   ]
  },
  {
   "cell_type": "code",
   "execution_count": 17,
   "id": "18761a67",
   "metadata": {},
   "outputs": [],
   "source": [
    "trec_covid_expanded_df[['_id', 'text']].dropna().to_csv(f\"{base_path}/data/trec_covid_expanded.tsv\", sep=\"\\t\", index=False, header=False)"
   ]
  },
  {
   "cell_type": "markdown",
   "id": "9daab22d",
   "metadata": {},
   "source": [
    "### Indexing"
   ]
  },
  {
   "cell_type": "code",
   "execution_count": 18,
   "id": "30f7e346",
   "metadata": {},
   "outputs": [],
   "source": [
    "PYSERINI_TOOLS_FOLDER = \"/home/manoel/Documents/Doutorado/P_IA368DD_2023S1/Exercicio1/tools/anserini-tools-master/scripts/msmarco/\"\n",
    "TREC_COVID_EXPANDED_FILENAME = f\"{base_path}/data/trec_covid_expanded.tsv\"\n",
    "TREC_COVID_EXPANDED_FOLDER = f\"{base_path}/data/trec_covid_expanded\""
   ]
  },
  {
   "cell_type": "code",
   "execution_count": 19,
   "id": "059f902a",
   "metadata": {},
   "outputs": [
    {
     "name": "stdout",
     "output_type": "stream",
     "text": [
      "Converting collection...\n",
      "Converted 0 docs, writing into file 1\n",
      "Converted 100,000 docs, writing into file 1\n",
      "Done!\n"
     ]
    }
   ],
   "source": [
    "!python {PYSERINI_TOOLS_FOLDER}convert_collection_to_jsonl.py \\\n",
    "    --collection-path {TREC_COVID_EXPANDED_FILENAME} \\\n",
    "    --output-folder {TREC_COVID_EXPANDED_FOLDER}"
   ]
  },
  {
   "cell_type": "markdown",
   "id": "ae4d2dfd",
   "metadata": {},
   "source": []
  },
  {
   "cell_type": "code",
   "execution_count": 20,
   "id": "a22ada78",
   "metadata": {},
   "outputs": [
    {
     "name": "stdout",
     "output_type": "stream",
     "text": [
      "WARNING: sun.reflect.Reflection.getCallerClass is not supported. This will impact performance.\n",
      "2023-04-11 14:18:34,867 INFO  [main] index.IndexCollection (IndexCollection.java:380) - Setting log level to INFO\n",
      "2023-04-11 14:18:34,869 INFO  [main] index.IndexCollection (IndexCollection.java:383) - Starting indexer...\n",
      "2023-04-11 14:18:34,869 INFO  [main] index.IndexCollection (IndexCollection.java:384) - ============ Loading Parameters ============\n",
      "2023-04-11 14:18:34,869 INFO  [main] index.IndexCollection (IndexCollection.java:385) - DocumentCollection path: ./data/trec_covid_expanded\n",
      "2023-04-11 14:18:34,870 INFO  [main] index.IndexCollection (IndexCollection.java:386) - CollectionClass: JsonCollection\n",
      "2023-04-11 14:18:34,870 INFO  [main] index.IndexCollection (IndexCollection.java:387) - Generator: DefaultLuceneDocumentGenerator\n",
      "2023-04-11 14:18:34,870 INFO  [main] index.IndexCollection (IndexCollection.java:388) - Threads: 9\n",
      "2023-04-11 14:18:34,870 INFO  [main] index.IndexCollection (IndexCollection.java:389) - Language: en\n",
      "2023-04-11 14:18:34,871 INFO  [main] index.IndexCollection (IndexCollection.java:390) - Stemmer: porter\n",
      "2023-04-11 14:18:34,871 INFO  [main] index.IndexCollection (IndexCollection.java:391) - Keep stopwords? false\n",
      "2023-04-11 14:18:34,871 INFO  [main] index.IndexCollection (IndexCollection.java:392) - Stopwords: null\n",
      "2023-04-11 14:18:34,871 INFO  [main] index.IndexCollection (IndexCollection.java:393) - Store positions? true\n",
      "2023-04-11 14:18:34,871 INFO  [main] index.IndexCollection (IndexCollection.java:394) - Store docvectors? true\n",
      "2023-04-11 14:18:34,872 INFO  [main] index.IndexCollection (IndexCollection.java:395) - Store document \"contents\" field? false\n",
      "2023-04-11 14:18:34,872 INFO  [main] index.IndexCollection (IndexCollection.java:396) - Store document \"raw\" field? true\n",
      "2023-04-11 14:18:34,872 INFO  [main] index.IndexCollection (IndexCollection.java:397) - Additional fields to index: []\n",
      "2023-04-11 14:18:34,872 INFO  [main] index.IndexCollection (IndexCollection.java:398) - Optimize (merge segments)? false\n",
      "2023-04-11 14:18:34,872 INFO  [main] index.IndexCollection (IndexCollection.java:399) - Whitelist: null\n",
      "2023-04-11 14:18:34,873 INFO  [main] index.IndexCollection (IndexCollection.java:400) - Pretokenized?: false\n",
      "2023-04-11 14:18:34,873 INFO  [main] index.IndexCollection (IndexCollection.java:401) - Index path: indexes/extended_trec_covid\n",
      "2023-04-11 14:18:34,882 INFO  [main] index.IndexCollection (IndexCollection.java:481) - ============ Indexing Collection ============\n",
      "2023-04-11 14:18:34,895 INFO  [main] index.IndexCollection (IndexCollection.java:468) - Using DefaultEnglishAnalyzer\n",
      "2023-04-11 14:18:34,895 INFO  [main] index.IndexCollection (IndexCollection.java:469) - Stemmer: porter\n",
      "2023-04-11 14:18:34,896 INFO  [main] index.IndexCollection (IndexCollection.java:470) - Keep stopwords? false\n",
      "2023-04-11 14:18:34,896 INFO  [main] index.IndexCollection (IndexCollection.java:471) - Stopwords file: null\n",
      "2023-04-11 14:18:35,029 INFO  [main] index.IndexCollection (IndexCollection.java:510) - Thread pool with 9 threads initialized.\n",
      "2023-04-11 14:18:35,030 INFO  [main] index.IndexCollection (IndexCollection.java:512) - Initializing collection in ./data/trec_covid_expanded\n",
      "2023-04-11 14:18:35,032 INFO  [main] index.IndexCollection (IndexCollection.java:521) - 1 file found\n",
      "2023-04-11 14:18:35,032 INFO  [main] index.IndexCollection (IndexCollection.java:522) - Starting to index...\n",
      "2023-04-11 14:19:04,003 DEBUG [pool-2-thread-1] index.IndexCollection$LocalIndexerThread (IndexCollection.java:345) - trec_covid_expanded/docs00.json: 129192 docs added.\n",
      "2023-04-11 14:19:10,756 INFO  [main] index.IndexCollection (IndexCollection.java:578) - Indexing Complete! 129.192 documents indexed\n",
      "2023-04-11 14:19:10,756 INFO  [main] index.IndexCollection (IndexCollection.java:579) - ============ Final Counter Values ============\n",
      "2023-04-11 14:19:10,757 INFO  [main] index.IndexCollection (IndexCollection.java:580) - indexed:          129.192\n",
      "2023-04-11 14:19:10,757 INFO  [main] index.IndexCollection (IndexCollection.java:581) - unindexable:            0\n",
      "2023-04-11 14:19:10,757 INFO  [main] index.IndexCollection (IndexCollection.java:582) - empty:                  0\n",
      "2023-04-11 14:19:10,757 INFO  [main] index.IndexCollection (IndexCollection.java:583) - skipped:                0\n",
      "2023-04-11 14:19:10,758 INFO  [main] index.IndexCollection (IndexCollection.java:584) - errors:                 0\n",
      "2023-04-11 14:19:10,773 INFO  [main] index.IndexCollection (IndexCollection.java:587) - Total 129.192 documents indexed in 00:00:35\n"
     ]
    }
   ],
   "source": [
    "!python -m pyserini.index.lucene \\\n",
    "  --collection JsonCollection \\\n",
    "  --input {base_path}/data/trec_covid_expanded \\\n",
    "  --index indexes/extended_trec_covid \\\n",
    "  --generator DefaultLuceneDocumentGenerator \\\n",
    "  --threads 9 \\\n",
    "  --storePositions --storeDocvectors --storeRaw"
   ]
  },
  {
   "cell_type": "code",
   "execution_count": 21,
   "id": "2e34b0fd",
   "metadata": {},
   "outputs": [
    {
     "name": "stdout",
     "output_type": "stream",
     "text": [
      "Setting BM25 parameters: k1=0.82, b=0.68\n",
      "Running ./data/queries.tsv topics, saving to ./runs/run.trec-covid.bm25tuned-expanded.txt...\n",
      "100%|███████████████████████████████████████████| 50/50 [00:03<00:00, 15.02it/s]\n"
     ]
    }
   ],
   "source": [
    "!python -m pyserini.search.lucene \\\n",
    "  --index indexes/extended_trec_covid \\\n",
    "  --topics {base_path}/data/queries.tsv \\\n",
    "  --output {base_path}/runs/run.{topics}.bm25tuned-expanded.txt \\\n",
    "  --hits 1000 \\\n",
    "  --bm25 --k1 0.82 --b 0.68"
   ]
  },
  {
   "cell_type": "code",
   "execution_count": 22,
   "id": "7ede914c",
   "metadata": {},
   "outputs": [],
   "source": [
    "run = pd.read_csv(f\"{base_path}/runs/run.{topics}.bm25tuned-expanded.txt\", sep=\"\\s+\", \n",
    "                  names=[\"query\", \"q0\", \"docid\", \"rank\", \"score\", \"system\"])\n",
    "run = run.to_dict(orient=\"list\")"
   ]
  },
  {
   "cell_type": "code",
   "execution_count": 23,
   "id": "0c3471d0",
   "metadata": {},
   "outputs": [],
   "source": [
    "trec_eval = load(\"trec_eval\")\n",
    "results = trec_eval.compute(predictions=[run], references=[qrel])"
   ]
  },
  {
   "cell_type": "code",
   "execution_count": 24,
   "id": "1f22e069",
   "metadata": {},
   "outputs": [
    {
     "data": {
      "text/plain": [
       "0.6447870307110422"
      ]
     },
     "execution_count": 24,
     "metadata": {},
     "output_type": "execute_result"
    }
   ],
   "source": [
    "results['NDCG@10']"
   ]
  },
  {
   "cell_type": "code",
   "execution_count": 26,
   "id": "630fae6e",
   "metadata": {},
   "outputs": [
    {
     "name": "stdout",
     "output_type": "stream",
     "text": [
      "0.5963\n"
     ]
    }
   ],
   "source": [
    "print(round(0.5963435398557583, 4))"
   ]
  },
  {
   "cell_type": "code",
   "execution_count": null,
   "id": "1d2676ff",
   "metadata": {},
   "outputs": [],
   "source": []
  }
 ],
 "metadata": {
  "kernelspec": {
   "display_name": "Python 3 (ipykernel)",
   "language": "python",
   "name": "python3"
  },
  "language_info": {
   "codemirror_mode": {
    "name": "ipython",
    "version": 3
   },
   "file_extension": ".py",
   "mimetype": "text/x-python",
   "name": "python",
   "nbconvert_exporter": "python",
   "pygments_lexer": "ipython3",
   "version": "3.9.0"
  }
 },
 "nbformat": 4,
 "nbformat_minor": 5
}
