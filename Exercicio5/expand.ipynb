{
 "cells": [
  {
   "cell_type": "markdown",
   "id": "7cdc193f",
   "metadata": {},
   "source": [
    "### Doc2query"
   ]
  },
  {
   "cell_type": "code",
   "execution_count": 1,
   "id": "50a41ee9",
   "metadata": {},
   "outputs": [],
   "source": [
    "import pandas as pd\n",
    "from tqdm.auto import tqdm\n",
    "import json\n",
    "from transformers import (\n",
    "    AutoTokenizer,\n",
    "    AutoModelForSeq2SeqLM,\n",
    "    GenerationConfig\n",
    ")\n",
    "import torch\n",
    "import pickle"
   ]
  },
  {
   "cell_type": "code",
   "execution_count": 2,
   "id": "e520c319",
   "metadata": {},
   "outputs": [],
   "source": [
    "device = torch.device('cuda' if torch.cuda.is_available() else 'cpu')\n",
    "tokenizer = AutoTokenizer.from_pretrained(\"model\")\n",
    "model = AutoModelForSeq2SeqLM.from_pretrained(\"model\").to(device)"
   ]
  },
  {
   "cell_type": "code",
   "execution_count": 3,
   "id": "e264f48d",
   "metadata": {},
   "outputs": [],
   "source": [
    "NUMBER_OF_SEQUENCES = 3\n",
    "generation_params = GenerationConfig(\n",
    "    max_new_tokens=200,\n",
    "    do_sample=True,\n",
    "    temperature=1.2,\n",
    "    top_k=50,\n",
    "    top_p=0.8,\n",
    "    num_beams=1,\n",
    "    num_return_sequences=NUMBER_OF_SEQUENCES\n",
    ")\n",
    "SAVE_AFTER = 1000\n",
    "START_POSITION=0\n",
    "END_POSITION=129192\n",
    "BATCH_SIZE=16\n",
    "TREC_COVID_EXP=\"generated_expansion.pkl\"\n",
    "base_path = \".\""
   ]
  },
  {
   "cell_type": "code",
   "execution_count": 4,
   "id": "05451031",
   "metadata": {},
   "outputs": [],
   "source": [
    "# Mudar o formato de jsonl para tsv\n",
    "# with open(f'{base_path}/data/corpus.tsv','w') as output:\n",
    "#     with open(f'{base_path}/data/corpus.jsonl', 'r') as file:\n",
    "#         for line in tqdm(file):\n",
    "#             data = json.loads(line)\n",
    "#             id = data['_id']\n",
    "#             text = data['text']\n",
    "#             output.write(f'{id}\\t{text}\\n')"
   ]
  },
  {
   "cell_type": "code",
   "execution_count": 5,
   "id": "4c26d66d",
   "metadata": {},
   "outputs": [],
   "source": [
    "trec_covid_corpus_df = pd.read_csv(f\"{base_path}/data/corpus.tsv\", sep='\\t', names=[\"id\", \"text\"])\n",
    "trec_covid_corpus_df = trec_covid_corpus_df.dropna()"
   ]
  },
  {
   "cell_type": "code",
   "execution_count": 6,
   "id": "cf6df7e5",
   "metadata": {},
   "outputs": [
    {
     "name": "stdout",
     "output_type": "stream",
     "text": [
      "<class 'pandas.core.frame.DataFrame'>\n",
      "Int64Index: 129192 entries, 0 to 171330\n",
      "Data columns (total 2 columns):\n",
      " #   Column  Non-Null Count   Dtype \n",
      "---  ------  --------------   ----- \n",
      " 0   id      129192 non-null  object\n",
      " 1   text    129192 non-null  object\n",
      "dtypes: object(2)\n",
      "memory usage: 3.0+ MB\n"
     ]
    }
   ],
   "source": [
    "trec_covid_corpus_df.info()"
   ]
  },
  {
   "cell_type": "code",
   "execution_count": null,
   "id": "dbe690fd",
   "metadata": {},
   "outputs": [
    {
     "data": {
      "application/vnd.jupyter.widget-view+json": {
       "model_id": "70c35a62e3714f679ce358b9e78b702b",
       "version_major": 2,
       "version_minor": 0
      },
      "text/plain": [
       "  0%|          | 0/8075 [00:00<?, ?it/s]"
      ]
     },
     "metadata": {},
     "output_type": "display_data"
    }
   ],
   "source": [
    "document_expansion = []\n",
    "\n",
    "doc_texts = trec_covid_corpus_df.iloc[START_POSITION:END_POSITION]['text'].tolist()\n",
    "doc_indexes = trec_covid_corpus_df.iloc[START_POSITION:END_POSITION].index.tolist()\n",
    "\n",
    "for i in (pbar := tqdm(range(0, END_POSITION - START_POSITION, BATCH_SIZE))):\n",
    "    pbar.set_description(\"Generating topics for sequence={}~{}/{}\".format(doc_indexes[i], doc_indexes[i + BATCH_SIZE - 1], trec_covid_corpus_df.shape[0]))\n",
    "\n",
    "    input_ids = tokenizer(doc_texts[i:(i + BATCH_SIZE)], padding=True, return_tensors='pt', truncation=True).input_ids.to(device)\n",
    "\n",
    "    generated_text = model.generate(inputs=input_ids, generation_config=generation_params)\n",
    "\n",
    "    decoded_text = tokenizer.batch_decode(generated_text, skip_special_tokens=True)\n",
    "\n",
    "    document_expansion += [\" \".join(decoded_text[i:i + NUMBER_OF_SEQUENCES]) for i in list(range(0, len(decoded_text), NUMBER_OF_SEQUENCES))]"
   ]
  },
  {
   "cell_type": "code",
   "execution_count": null,
   "id": "3dc57de1",
   "metadata": {},
   "outputs": [],
   "source": [
    "with open(TREC_COVID_EXP, \"wb\") as outputFile:\n",
    "    pickle.dump({\"doc_indexes\": doc_indexes,\n",
    "                 \"doc_expansion\": document_expansion}, outputFile, pickle.HIGHEST_PROTOCOL)"
   ]
  }
 ],
 "metadata": {
  "kernelspec": {
   "display_name": "Python 3 (ipykernel)",
   "language": "python",
   "name": "python3"
  },
  "language_info": {
   "codemirror_mode": {
    "name": "ipython",
    "version": 3
   },
   "file_extension": ".py",
   "mimetype": "text/x-python",
   "name": "python",
   "nbconvert_exporter": "python",
   "pygments_lexer": "ipython3",
   "version": "3.9.0"
  }
 },
 "nbformat": 4,
 "nbformat_minor": 5
}
